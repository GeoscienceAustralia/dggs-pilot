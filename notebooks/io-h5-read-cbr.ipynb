{
 "cells": [
  {
   "cell_type": "code",
   "execution_count": null,
   "metadata": {},
   "outputs": [],
   "source": [
    "%matplotlib inline\n",
    "\n",
    "import matplotlib.pyplot as plt\n",
    "from dggs import DGGS, io as dggs_io, uitools"
   ]
  },
  {
   "cell_type": "code",
   "execution_count": null,
   "metadata": {},
   "outputs": [],
   "source": [
    "dd = dggs_io.h5_load('cbr-google-map.h5')"
   ]
  },
  {
   "cell_type": "code",
   "execution_count": null,
   "metadata": {},
   "outputs": [],
   "source": [
    "ax = uitools.DgDraw(plt.figure(figsize=(12,6)),\n",
    "                    south_square=3)\n",
    "\n",
    "cell = DGGS.Address('R78523452')\n",
    "ax.hide_axis()\n",
    "ax.roi(cell, 'm-', linewidth=3, alpha=0.3)\n",
    "ax.annotate(str(cell), \n",
    "            addr=cell.scale_down(6),\n",
    "            color='m',\n",
    "            weight='bold',\n",
    "            textcoords='offset points',\n",
    "            xytext=(0,3),\n",
    "            alpha=0.5,\n",
    "            size=11)\n",
    "ax.imshow(dd);"
   ]
  }
 ],
 "metadata": {
  "kernelspec": {
   "display_name": "Python 3",
   "language": "python",
   "name": "python3"
  },
  "language_info": {
   "codemirror_mode": {
    "name": "ipython",
    "version": 3
   },
   "file_extension": ".py",
   "mimetype": "text/x-python",
   "name": "python",
   "nbconvert_exporter": "python",
   "pygments_lexer": "ipython3",
   "version": "3.6.3"
  }
 },
 "nbformat": 4,
 "nbformat_minor": 2
}
