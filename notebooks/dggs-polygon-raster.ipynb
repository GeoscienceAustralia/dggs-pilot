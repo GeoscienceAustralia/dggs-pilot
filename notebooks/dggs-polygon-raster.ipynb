{
 "cells": [
  {
   "cell_type": "code",
   "execution_count": null,
   "metadata": {},
   "outputs": [],
   "source": [
    "%matplotlib inline\n",
    "import matplotlib.pyplot as plt\n",
    "import fiona\n",
    "import pydash\n",
    "import shapely.geometry\n",
    "from shapely.geometry import Polygon, Point, shape\n",
    "import pyproj\n",
    "import numpy as np\n",
    "from affine import Affine\n",
    "from rasterio.features import rasterize"
   ]
  },
  {
   "cell_type": "code",
   "execution_count": null,
   "metadata": {},
   "outputs": [],
   "source": [
    "from kk.dggs import DGGS\n",
    "import kk.tools\n",
    "from kk import uitools\n",
    "\n",
    "dg = DGGS()"
   ]
  },
  {
   "cell_type": "code",
   "execution_count": null,
   "metadata": {},
   "outputs": [],
   "source": [
    "poly, src_crs = kk.tools.load_polygons('/Users/kirill/wk/dggs/data/act_aea.shp')\n",
    "poly = poly[0]\n",
    "display(poly, src_crs)"
   ]
  },
  {
   "cell_type": "code",
   "execution_count": null,
   "metadata": {},
   "outputs": [],
   "source": [
    "scale_level = 12#13\n",
    "\n",
    "overlaps = dg.compute_overlap(scale_level, *poly.boundary.xy, crs=src_crs)\n",
    "\n",
    "if len(overlaps) != 1:\n",
    "    print('Warning polygon crosses top-level DGGS regions, this is not supported yet')\n",
    "    \n",
    "\n",
    "roi = overlaps[0]\n",
    "display( roi )\n",
    "roi = roi.align_by(5)\n",
    "display(roi)\n",
    "\n",
    "tr, *_ = dg.pixel_coord_transform(roi, native=True, no_offset=True)\n",
    "\n",
    "\n",
    "poly_m = shapely.ops.transform(dg.to_native(src_crs), poly)\n",
    "display(poly_m)\n",
    "\n",
    "poly_pix = shapely.ops.transform(lambda x,y: tr.inverse(x,y), poly_m)\n",
    "display(poly_pix)\n",
    "\n",
    "[int(b) for b in poly_pix.bounds]"
   ]
  },
  {
   "cell_type": "code",
   "execution_count": null,
   "metadata": {},
   "outputs": [],
   "source": [
    "im = rasterize([poly_pix], out_shape=roi.shape)\n",
    "\n",
    "ff = dg.mk_display_helper()\n",
    "\n",
    "fig = plt.figure(figsize=(6,6))\n",
    "ax = fig.add_axes((0,0,1,1))\n",
    "\n",
    "\n",
    "im, extent = ff(roi.addr, im)\n",
    "\n",
    "ax.imshow(im, extent=extent)\n",
    "\n",
    "uitools.plot_roi(roi, 'y-', ax=ax, alpha=0.5, linewidth=2)\n",
    "uitools.plot_roi(roi.scale_up(3), 'b-', ax=ax, alpha=0.1, linewidth=2)\n",
    "uitools.plot_roi(roi.scale_up(4), 'b-', ax=ax, alpha=0.1, linewidth=2)\n",
    "uitools.plot_roi(roi.scale_up(5), 'b-', ax=ax, alpha=0.1, linewidth=2)\n",
    "\n",
    "\n"
   ]
  },
  {
   "cell_type": "code",
   "execution_count": null,
   "metadata": {},
   "outputs": [],
   "source": [
    "roi, roi.scale_up(1), roi.scale_up(5), roi.align_by(5)"
   ]
  },
  {
   "cell_type": "code",
   "execution_count": null,
   "metadata": {},
   "outputs": [],
   "source": []
  }
 ],
 "metadata": {
  "kernelspec": {
   "display_name": "Python 3",
   "language": "python",
   "name": "python3"
  },
  "language_info": {
   "codemirror_mode": {
    "name": "ipython",
    "version": 3
   },
   "file_extension": ".py",
   "mimetype": "text/x-python",
   "name": "python",
   "nbconvert_exporter": "python",
   "pygments_lexer": "ipython3",
   "version": "3.6.3"
  }
 },
 "nbformat": 4,
 "nbformat_minor": 2
}
