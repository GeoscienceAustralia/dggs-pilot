{
 "cells": [
  {
   "cell_type": "code",
   "execution_count": null,
   "metadata": {},
   "outputs": [],
   "source": [
    "%matplotlib inline\n",
    "import matplotlib.pyplot as plt\n",
    "import fiona\n",
    "import pydash\n",
    "import shapely.geometry\n",
    "from shapely.geometry import Polygon, Point, shape\n",
    "import pyproj\n",
    "import numpy as np\n",
    "from affine import Affine\n",
    "from rasterio.features import rasterize"
   ]
  },
  {
   "cell_type": "code",
   "execution_count": null,
   "metadata": {},
   "outputs": [],
   "source": [
    "from kk.dggs import DGGS\n",
    "import kk.tools\n",
    "\n",
    "dg = DGGS()"
   ]
  },
  {
   "cell_type": "code",
   "execution_count": null,
   "metadata": {},
   "outputs": [],
   "source": [
    "poly, src_crs = kk.tools.load_polygons('/Users/kirill/wk/dggs/data/act_aea.shp')\n",
    "poly = poly[0]\n",
    "display(poly, src_crs)"
   ]
  },
  {
   "cell_type": "code",
   "execution_count": null,
   "metadata": {},
   "outputs": [],
   "source": [
    "src_prj = pyproj.Proj(src_crs)\n",
    "nx, ny = [np.asarray(a) for a in poly.boundary.xy]\n",
    "lx, ly = pyproj.transform(src_prj, dg._prj_lonlat, nx, ny)\n",
    "\n",
    "addr, w, h  = dg.compute_overlap(13, nx, ny, crs=src_crs)[0]\n",
    "poly_m = Polygon(zip(*pyproj.transform(src_prj, dg._rhm, nx, ny)))\n",
    "\n",
    "display( (addr, w, h) )\n",
    "display(poly_m)"
   ]
  },
  {
   "cell_type": "code",
   "execution_count": null,
   "metadata": {},
   "outputs": [],
   "source": [
    "tr, *_ = dg.pixel_coord_transform(addr, w, h, native=True, no_offset=True)"
   ]
  },
  {
   "cell_type": "code",
   "execution_count": null,
   "metadata": {},
   "outputs": [],
   "source": [
    "mx, my = [np.asarray(a) for a in poly_m.boundary.xy]\n",
    "\n",
    "poly_pix = Polygon(zip(*tr.inverse(mx, my)))\n",
    "display(poly_pix)\n",
    "[int(b) for b in poly_pix.bounds]"
   ]
  },
  {
   "cell_type": "code",
   "execution_count": null,
   "metadata": {},
   "outputs": [],
   "source": [
    "im = rasterize([poly_pix], out_shape=(h,w))\n",
    "\n",
    "plt.imshow(im)\n",
    "plt.colorbar()"
   ]
  },
  {
   "cell_type": "markdown",
   "metadata": {},
   "source": [
    "------------------------------------------"
   ]
  },
  {
   "cell_type": "markdown",
   "metadata": {},
   "source": [
    "## keep\n",
    "\n",
    "``` python\n",
    "idx, x, y = dg.to_ixy(lx,ly, 13)\n",
    "display(np.unique(idx))\n",
    "poly_ = Polygon(zip(x,y))\n",
    "display(poly_)\n",
    "\n",
    "\n",
    "x1,y1, x2, y2 = poly_.bounds\n",
    "\n",
    "w, h = int(x2-x1), int(y2-y1)\n",
    "(w,h)\n",
    "\n",
    "x1,y1\n",
    "\n",
    "Affine.translation(x1,y1)\n",
    "\n",
    "im = rasterize([poly_], out_shape=(h,w), transform=Affine.translation(x1,y1))\n",
    "im.shape, im.sum()\n",
    "```"
   ]
  }
 ],
 "metadata": {
  "kernelspec": {
   "display_name": "Python 3",
   "language": "python",
   "name": "python3"
  },
  "language_info": {
   "codemirror_mode": {
    "name": "ipython",
    "version": 3
   },
   "file_extension": ".py",
   "mimetype": "text/x-python",
   "name": "python",
   "nbconvert_exporter": "python",
   "pygments_lexer": "ipython3",
   "version": "3.6.3"
  }
 },
 "nbformat": 4,
 "nbformat_minor": 2
}
