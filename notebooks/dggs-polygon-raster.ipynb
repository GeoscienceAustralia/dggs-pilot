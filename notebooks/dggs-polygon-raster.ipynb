{
 "cells": [
  {
   "cell_type": "code",
   "execution_count": null,
   "metadata": {},
   "outputs": [],
   "source": [
    "%matplotlib inline\n",
    "import matplotlib.pyplot as plt\n",
    "import numpy as np"
   ]
  },
  {
   "cell_type": "code",
   "execution_count": null,
   "metadata": {},
   "outputs": [],
   "source": [
    "import dggs\n",
    "from dggs.io import save_png, dump_text, load_polygons\n",
    "from dggs import uitools\n",
    "from dggs.datasets import get_path\n",
    "\n",
    "dg = dggs.DGGS()"
   ]
  },
  {
   "cell_type": "code",
   "execution_count": null,
   "metadata": {},
   "outputs": [],
   "source": [
    "poly, src_crs = load_polygons(get_path('act_aea.shp'))\n",
    "poly = poly[0]\n",
    "display(poly, src_crs)"
   ]
  },
  {
   "cell_type": "code",
   "execution_count": null,
   "metadata": {},
   "outputs": [],
   "source": [
    "im = dggs.shape_to_mask(poly, src_crs, 12, align=1)\n",
    "\n",
    "im"
   ]
  },
  {
   "cell_type": "code",
   "execution_count": null,
   "metadata": {},
   "outputs": [],
   "source": [
    "ax = uitools.DgDraw(plt.figure(figsize=(6,6)))\n",
    "ax.imshow(im)\n",
    "ax.hide_axis()\n",
    "ax.roi(im.roi, 'c-', linewidth=6, alpha=0.6)"
   ]
  },
  {
   "cell_type": "code",
   "execution_count": null,
   "metadata": {},
   "outputs": [],
   "source": [
    "aa = dggs.mask_to_addresses(im, dg=dg)\n",
    "print('\\n'.join(aa[:5] + ['...'] + aa[-5:]))"
   ]
  },
  {
   "cell_type": "code",
   "execution_count": null,
   "metadata": {},
   "outputs": [],
   "source": [
    "save_png('mm-mask-full-res.png', im.value, binary=True)\n",
    "dump_text(aa, 'mm-addresses.txt')\n",
    "dump_text(aa, 'mm-addresses.txt.gz')\n",
    "dump_text(aa, 'mm-addresses.txt.xz')\n",
    "\n",
    "!ls -lh mm-*"
   ]
  },
  {
   "cell_type": "markdown",
   "metadata": {},
   "source": [
    "-------------------------------------------"
   ]
  }
 ],
 "metadata": {
  "kernelspec": {
   "display_name": "Python 3",
   "language": "python",
   "name": "python3"
  },
  "language_info": {
   "codemirror_mode": {
    "name": "ipython",
    "version": 3
   },
   "file_extension": ".py",
   "mimetype": "text/x-python",
   "name": "python",
   "nbconvert_exporter": "python",
   "pygments_lexer": "ipython3",
   "version": "3.6.3"
  }
 },
 "nbformat": 4,
 "nbformat_minor": 2
}
