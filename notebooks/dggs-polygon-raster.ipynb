{
 "cells": [
  {
   "cell_type": "code",
   "execution_count": null,
   "metadata": {},
   "outputs": [],
   "source": [
    "%matplotlib inline\n",
    "import matplotlib.pyplot as plt\n",
    "import fiona\n",
    "import pydash\n",
    "import shapely.geometry\n",
    "from shapely.geometry import Polygon, Point, shape\n",
    "import pyproj\n",
    "import numpy as np\n",
    "from affine import Affine\n",
    "from rasterio.features import rasterize"
   ]
  },
  {
   "cell_type": "code",
   "execution_count": null,
   "metadata": {},
   "outputs": [],
   "source": [
    "from kk.dggs import DGGS\n",
    "import kk.tools\n",
    "from kk import uitools\n",
    "from kk.tools import save_png, dump_text, slurp\n",
    "\n",
    "dg = DGGS()"
   ]
  },
  {
   "cell_type": "code",
   "execution_count": null,
   "metadata": {},
   "outputs": [],
   "source": [
    "poly, src_crs = kk.tools.load_polygons('/Users/kirill/wk/dggs/data/act_aea.shp')\n",
    "poly = poly[0]\n",
    "display(poly, src_crs)"
   ]
  },
  {
   "cell_type": "code",
   "execution_count": null,
   "metadata": {},
   "outputs": [],
   "source": [
    "scale_level = 12#13\n",
    "\n",
    "overlaps = dg.compute_overlap(scale_level, *poly.boundary.xy, crs=src_crs)\n",
    "\n",
    "if len(overlaps) != 1:\n",
    "    print('Warning polygon crosses top-level DGGS regions, this is not supported yet')\n",
    "    \n",
    "\n",
    "roi = overlaps[0]\n",
    "display( roi )\n",
    "roi = roi.align_by(1)\n",
    "display(roi)\n",
    "\n",
    "tr, *_ = dg.pixel_coord_transform(roi, native=True, no_offset=True)\n",
    "\n",
    "\n",
    "poly_m = shapely.ops.transform(dg.to_native(src_crs), poly)\n",
    "display(poly_m)\n",
    "\n",
    "poly_pix = shapely.ops.transform(lambda x,y: tr.inverse(x,y), poly_m)\n",
    "display(poly_pix)\n",
    "\n",
    "[int(b) for b in poly_pix.bounds]"
   ]
  },
  {
   "cell_type": "code",
   "execution_count": null,
   "metadata": {},
   "outputs": [],
   "source": [
    "im = rasterize([poly_pix], out_shape=roi.shape)\n",
    "\n",
    "ff = dg.mk_display_helper()\n",
    "\n",
    "fig = plt.figure(figsize=(6,6))\n",
    "ax = fig.add_axes((0,0,1,1))\n",
    "\n",
    "\n",
    "im, extent = ff(roi.addr, im)\n",
    "\n",
    "ax.imshow(im, extent=extent)\n",
    "\n",
    "uitools.plot_roi(roi, 'y-', ax=ax, alpha=0.5, linewidth=2)\n",
    "uitools.plot_roi(roi.scale_up(3), 'y-', ax=ax, alpha=0.6, linewidth=5)\n",
    "uitools.plot_roi(roi.scale_up(4), 'y-', ax=ax, alpha=0.6, linewidth=5)\n",
    "uitools.plot_roi(roi.scale_up(5), 'y-', ax=ax, alpha=0.6, linewidth=5)"
   ]
  },
  {
   "cell_type": "code",
   "execution_count": null,
   "metadata": {},
   "outputs": [],
   "source": [
    "def to_simple_txt(oo):\n",
    "    ll = []\n",
    "    \n",
    "    for roi, xy, *_ in oo:\n",
    "        lvl = []\n",
    "        for x,y in xy.T:\n",
    "            addr = roi.addr + (x,y)\n",
    "            lvl.append(str(addr))\n",
    "\n",
    "        ll.extend(sorted(lvl))\n",
    "    return ll\n",
    "\n",
    "\n",
    "def mask_lvl_diff(m, roi, m2, m2_roi):\n",
    "    assert roi.scale == m2_roi.scale + 1\n",
    "    m2, m2_roi = dg.expand(m2, m2_roi)\n",
    "    #import pdb; pdb.set_trace()\n",
    "    m2, _ = dg.crop(m2, m2_roi, roi)\n",
    "    return m*(~m2)\n",
    "\n",
    "def mask_to_pts(m, roi, keep_diff_image=False):\n",
    "    out = []\n",
    "    \n",
    "    while m.any():\n",
    "        m2, m2_roi = dg.scale_op_and(m, roi, tight=True)\n",
    "        m_diff = mask_lvl_diff(m, roi, m2, m2_roi)\n",
    "        y, x = np.where(m_diff)\n",
    "        \n",
    "        extras = ()\n",
    "        if keep_diff_image:\n",
    "            extras = extras + (m_diff,)\n",
    "        \n",
    "        out.insert(0, (roi, np.vstack((x,y))) + extras)\n",
    "        \n",
    "        m, roi = m2, m2_roi\n",
    "    \n",
    "    return out\n",
    "        \n",
    "    "
   ]
  },
  {
   "cell_type": "code",
   "execution_count": null,
   "metadata": {},
   "outputs": [],
   "source": [
    "oo = mask_to_pts(im>0, roi, keep_diff_image=True)\n",
    "\n",
    "aa = to_simple_txt(oo)\n",
    "\n",
    "display(len(oo), oo[0], aa[:10])"
   ]
  },
  {
   "cell_type": "code",
   "execution_count": null,
   "metadata": {},
   "outputs": [],
   "source": [
    "def combine_masks(oo):\n",
    "    dst_roi = oo[-1][0]\n",
    "    out = None\n",
    "    n = len(oo)\n",
    "    \n",
    "    for idx, (roi,_, m) in enumerate(oo):\n",
    "        m = m.astype('uint8')*(n-idx)\n",
    "        m, _ = dg.expand_to_roi(m, roi, dst_roi)\n",
    "        \n",
    "        if out is None:\n",
    "            out = m\n",
    "        \n",
    "        assert out.shape == m.shape\n",
    "        \n",
    "        out[m>0] = m[m>0]\n",
    "    \n",
    "    return out\n",
    "            \n",
    "        \n",
    "\n",
    "mm = combine_masks(oo)\n",
    "\n",
    "palette = dict(divergent=[0xffffff,0xffffe0,0xffa474,0xdb4551,0xffffe0,0xffa474,0xdb4551,0x8b0000],\n",
    "               sequential=[0xffffff, 0xffffe0,0xffd59b,0xffa474,0xf47461,0xdb4551,0xb81b34,0x8b0000])\n",
    "\n",
    "mm_colour = kk.tools.index_to_rgb(mm, palette['sequential'], alpha=0)\n",
    "plt.imshow(mm_colour)"
   ]
  },
  {
   "cell_type": "code",
   "execution_count": null,
   "metadata": {},
   "outputs": [],
   "source": [
    "save_png('mm-mask-full-res.png', im, binary=True)\n",
    "save_png('mm-colour.png', mm_colour)\n",
    "dump_text(aa, 'mm-addresses.txt')\n",
    "dump_text(aa, 'mm-addresses.txt.gz')\n",
    "dump_text(aa, 'mm-addresses.txt.xz')\n",
    "\n",
    "for i, (roi, xy, bm) in enumerate(oo):\n",
    "    save_png(f'mm-border-{i}.png', bm.astype('uint8'), binary=True)\n",
    "\n",
    "!ls -lh mm-*\n",
    "#!open mm-colour.png"
   ]
  },
  {
   "cell_type": "markdown",
   "metadata": {},
   "source": [
    "-------------------------------------------"
   ]
  },
  {
   "cell_type": "code",
   "execution_count": null,
   "metadata": {},
   "outputs": [],
   "source": [
    "fig = plt.figure(figsize=(5,5))\n",
    "ax = fig.add_axes((0,0,1,1))\n",
    "ax.set_axis_off()\n",
    "\n",
    "\n",
    "for roi_, _ , a in oo:\n",
    "    a,extent = ff(roi_.addr, a)\n",
    "    a = a.astype('float32')\n",
    "    a[a==0] = np.nan\n",
    "    ax.imshow(a, extent=extent)"
   ]
  },
  {
   "cell_type": "code",
   "execution_count": null,
   "metadata": {},
   "outputs": [],
   "source": [
    "aa_ = slurp('mm-addresses.txt.xz', lambda a: DGGS.Address(a))\n",
    "aa_[:10]"
   ]
  },
  {
   "cell_type": "code",
   "execution_count": null,
   "metadata": {},
   "outputs": [],
   "source": [
    "_roi = DGGS.roi_from_points(aa_)\n",
    "\n",
    "display(_roi, roi)\n"
   ]
  },
  {
   "cell_type": "code",
   "execution_count": null,
   "metadata": {},
   "outputs": [],
   "source": []
  }
 ],
 "metadata": {
  "kernelspec": {
   "display_name": "Python 3",
   "language": "python",
   "name": "python3"
  },
  "language_info": {
   "codemirror_mode": {
    "name": "ipython",
    "version": 3
   },
   "file_extension": ".py",
   "mimetype": "text/x-python",
   "name": "python",
   "nbconvert_exporter": "python",
   "pygments_lexer": "ipython3",
   "version": "3.6.3"
  }
 },
 "nbformat": 4,
 "nbformat_minor": 2
}
