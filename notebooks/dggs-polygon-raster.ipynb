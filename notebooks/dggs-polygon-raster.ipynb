{
 "cells": [
  {
   "cell_type": "code",
   "execution_count": null,
   "metadata": {},
   "outputs": [],
   "source": [
    "%matplotlib inline\n",
    "import matplotlib.pyplot as plt\n",
    "import fiona\n",
    "import pydash\n",
    "import shapely.geometry\n",
    "from shapely.geometry import Polygon, Point, shape\n",
    "import pyproj\n",
    "import numpy as np\n",
    "from affine import Affine\n",
    "from rasterio.features import rasterize"
   ]
  },
  {
   "cell_type": "code",
   "execution_count": null,
   "metadata": {},
   "outputs": [],
   "source": [
    "from kk.dggs import DGGS\n",
    "import kk.tools\n",
    "\n",
    "dg = DGGS()"
   ]
  },
  {
   "cell_type": "code",
   "execution_count": null,
   "metadata": {},
   "outputs": [],
   "source": [
    "poly, src_crs = kk.tools.load_polygons('/Users/kirill/wk/dggs/data/act_aea.shp')\n",
    "poly = poly[0]\n",
    "display(poly, src_crs)"
   ]
  },
  {
   "cell_type": "code",
   "execution_count": null,
   "metadata": {},
   "outputs": [],
   "source": [
    "scale_level = 12#13\n",
    "\n",
    "overlaps = dg.compute_overlap(scale_level, *poly.boundary.xy, crs=src_crs)\n",
    "\n",
    "if len(overlaps) != 1:\n",
    "    print('Warning polygon crosses top-level DGGS regions, this is not supported yet')\n",
    "    \n",
    "\n",
    "addr, w, h  = overlaps[0]\n",
    "tr, *_ = dg.pixel_coord_transform(addr, w, h, native=True, no_offset=True)\n",
    "\n",
    "display( (addr, w, h) )\n",
    "\n",
    "poly_m = shapely.ops.transform(dg.to_native(src_crs), poly)\n",
    "display(poly_m)\n",
    "\n",
    "poly_pix = shapely.ops.transform(lambda x,y: tr.inverse(x,y), poly_m)\n",
    "display(poly_pix)\n",
    "\n",
    "[int(b) for b in poly_pix.bounds]"
   ]
  },
  {
   "cell_type": "code",
   "execution_count": null,
   "metadata": {},
   "outputs": [],
   "source": [
    "im = rasterize([poly_pix], out_shape=(h,w))\n",
    "\n",
    "plt.imshow(im)\n",
    "plt.colorbar()"
   ]
  }
 ],
 "metadata": {
  "kernelspec": {
   "display_name": "Python 3",
   "language": "python",
   "name": "python3"
  },
  "language_info": {
   "codemirror_mode": {
    "name": "ipython",
    "version": 3
   },
   "file_extension": ".py",
   "mimetype": "text/x-python",
   "name": "python",
   "nbconvert_exporter": "python",
   "pygments_lexer": "ipython3",
   "version": "3.6.3"
  }
 },
 "nbformat": 4,
 "nbformat_minor": 2
}
