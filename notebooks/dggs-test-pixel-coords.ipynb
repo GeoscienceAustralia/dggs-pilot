{
 "cells": [
  {
   "cell_type": "code",
   "execution_count": null,
   "metadata": {
    "collapsed": true
   },
   "outputs": [],
   "source": [
    "%matplotlib notebook\n",
    "#%matplotlib inline\n",
    "import matplotlib.pyplot as plt\n",
    "import matplotlib.patches as patches\n",
    "import rasterio\n",
    "import rasterio.warp\n",
    "import numpy as np\n",
    "import math\n",
    "\n",
    "import pyproj\n",
    "import xarray as xr\n",
    "import fiona\n",
    "import shapely\n",
    "import pydash\n",
    "from osgeo import osr\n",
    "from numpy import pi, r_, c_, vstack, hstack\n",
    "import sys\n",
    "\n",
    "from kk.dggs import DGGS\n",
    "from kk.tools import polygon_path"
   ]
  },
  {
   "cell_type": "code",
   "execution_count": null,
   "metadata": {
    "collapsed": true
   },
   "outputs": [],
   "source": [
    "dg = DGGS()"
   ]
  },
  {
   "cell_type": "code",
   "execution_count": null,
   "metadata": {},
   "outputs": [],
   "source": [
    "xx, yy = np.meshgrid(np.arange(-180,180,1),\n",
    "                     np.arange(-90,90,1))\n",
    "xx = xx.ravel()\n",
    "yy = yy.ravel()\n",
    "xx.shape, yy.shape"
   ]
  },
  {
   "cell_type": "code",
   "execution_count": null,
   "metadata": {},
   "outputs": [],
   "source": [
    "def gen_test_plots(dg, xx, yy, scale_level = 8):\n",
    "    idx, x, y = dg.to_ixy(xx, yy, 8)\n",
    "    u,v = dg._rh(xx,yy)\n",
    "    aa = dg.to_address(xx, yy, 8)\n",
    "\n",
    "    plt.figure(figsize=(9,2))\n",
    "    plt.plot(idx)\n",
    "    \n",
    "    plt.figure(figsize=(9,4))\n",
    "    plt.scatter(u,v, c=idx, marker='.')\n",
    "\n",
    "    print(set(DGGS.i2n[idx])),\n",
    "    print(set(a for a in (aa>>60)&7))\n",
    "    \n",
    "\n",
    "gen_test_plots(dg, xx, yy, 15)"
   ]
  },
  {
   "cell_type": "code",
   "execution_count": null,
   "metadata": {},
   "outputs": [],
   "source": [
    "def check_scale(cell_code, level, plot = True):\n",
    "    cell_addr = cell_code + '0'*level\n",
    "    W = 3**level\n",
    "    M = W - 1\n",
    "    S = min(W, 256)\n",
    "    \n",
    "    tr, (maxW, maxH) = dg.pixel_coord_transform(cell_addr)\n",
    "    b = 0.5 - 1e-6\n",
    "    \n",
    "    print('max.dim: {}x{}'.format(maxW, maxH))\n",
    "    \n",
    "    print('TL: {:13.8f} {:13.8f}'.format(*tr(-b , -b)))\n",
    "    print('TR: {:13.8f} {:13.8f}'.format(*tr(M+b, -b)))\n",
    "    print('BR: {:13.8f} {:13.8f}'.format(*tr(M+b,M+b)))\n",
    "    print('BL: {:13.8f} {:13.8f}'.format(*tr(-b ,M+b)))\n",
    "    \n",
    "    p = np.linspace(0, M, S).astype('uint32')\n",
    "    px,py = [a.ravel() for a in np.meshgrid(p, p)]\n",
    "    u,v = tr(px,py)\n",
    "\n",
    "    if plot:\n",
    "        plt.figure(figsize=(9,4))\n",
    "        plt.subplot(121)\n",
    "        plt.imshow(u.reshape(S,S))\n",
    "        plt.colorbar()\n",
    "        plt.subplot(122)\n",
    "        plt.imshow(v.reshape(S,S))\n",
    "        plt.colorbar() \n",
    "    \n",
    "    \n",
    "\n",
    "check_scale('S', 15)\n",
    "check_scale('R', 15)"
   ]
  },
  {
   "cell_type": "code",
   "execution_count": null,
   "metadata": {},
   "outputs": [],
   "source": [
    "for s in 'SNOPQR':\n",
    "    print(s)\n",
    "    check_scale(s, 15, plot=False)"
   ]
  },
  {
   "cell_type": "code",
   "execution_count": null,
   "metadata": {},
   "outputs": [],
   "source": [
    "def add_cell_plot(cell_addr, style='-', ax=None):\n",
    "    tr, (maxW, maxH) = dg.pixel_coord_transform(cell_addr)\n",
    "\n",
    "    bb = 0.5 - 1e-8\n",
    "    x = np.linspace(-bb, maxW - 1 + bb, 2)\n",
    "    y = np.linspace(-bb, maxH - 1 + bb, 2)\n",
    "    x,y = polygon_path(x,y)\n",
    "\n",
    "    u,v = tr(x,y)\n",
    "    \n",
    "    ax.plot(u,v, style)\n",
    "    \n",
    "    \n",
    "fig = plt.figure(figsize=(8,8))\n",
    "ax = fig.add_subplot(111)\n",
    "add_cell_plot('R000', 'r.-', ax)\n",
    "add_cell_plot('R431', 'b.-', ax)\n",
    "add_cell_plot('R181', 'g.-', ax)\n",
    "add_cell_plot('R882', 'c.-', ax)\n",
    "add_cell_plot('R888', 'm.-', ax)\n",
    "ax.axis('equal')\n",
    "\n",
    "pass"
   ]
  },
  {
   "cell_type": "markdown",
   "metadata": {},
   "source": [
    "-------------------------------------------------------------------"
   ]
  },
  {
   "cell_type": "code",
   "execution_count": null,
   "metadata": {
    "collapsed": true
   },
   "outputs": [],
   "source": []
  }
 ],
 "metadata": {
  "kernelspec": {
   "display_name": "Python 3",
   "language": "python",
   "name": "python3"
  },
  "language_info": {
   "codemirror_mode": {
    "name": "ipython",
    "version": 3
   },
   "file_extension": ".py",
   "mimetype": "text/x-python",
   "name": "python",
   "nbconvert_exporter": "python",
   "pygments_lexer": "ipython3",
   "version": "3.6.2"
  }
 },
 "nbformat": 4,
 "nbformat_minor": 2
}
