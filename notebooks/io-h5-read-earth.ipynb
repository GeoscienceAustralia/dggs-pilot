{
 "cells": [
  {
   "cell_type": "code",
   "execution_count": null,
   "metadata": {},
   "outputs": [],
   "source": [
    "#%matplotlib notebook\n",
    "%matplotlib inline\n",
    "\n",
    "import matplotlib.pyplot as plt\n",
    "import numpy as np\n",
    "import xarray as xr\n",
    "import importlib\n",
    "from dggs import DGGS, io as dggs_io\n",
    "from dggs import uitools\n",
    "\n"
   ]
  },
  {
   "cell_type": "code",
   "execution_count": null,
   "metadata": {},
   "outputs": [],
   "source": [
    "dd = dggs_io.h5_load('earth.h5')"
   ]
  },
  {
   "cell_type": "code",
   "execution_count": null,
   "metadata": {},
   "outputs": [],
   "source": [
    "ax = uitools.DgDraw(plt.figure(figsize=(12,6)),\n",
    "                    south_square=0)\n",
    "ax.hide_axis()\n",
    "ax.imshow(dd)\n",
    "ax.figure.savefig('dggs_earth_00.png', dpi=300)\n",
    "fig00 = ax.figure"
   ]
  },
  {
   "cell_type": "code",
   "execution_count": null,
   "metadata": {},
   "outputs": [],
   "source": [
    "for c in 'SNOPQR':\n",
    "    ax.roi(c, linewidth=2, alpha=0.6, color='y')\n",
    "    for n in range(8):\n",
    "        ax.roi(f'{c}{n}', linewidth=1, alpha=0.3, color='y')\n",
    "\n",
    "for n in range(8):\n",
    "    ax.roi(f'R7{n}', linewidth=1, alpha=0.3, color='y')\n",
    "    \n",
    "ax.figure"
   ]
  },
  {
   "cell_type": "code",
   "execution_count": null,
   "metadata": {},
   "outputs": [],
   "source": [
    "ax = uitools.DgDraw(plt.figure(figsize=(12,6)),\n",
    "                    south_square=3, north_square=2)\n",
    "\n",
    "ax.hide_axis()\n",
    "ax.imshow(dd)\n",
    "fig23 = ax.figure"
   ]
  },
  {
   "cell_type": "code",
   "execution_count": null,
   "metadata": {},
   "outputs": [],
   "source": [
    "fig00.savefig('dggs_earth_00_grids.png', dpi=300)\n",
    "fig23.savefig('dggs_earth_23.png', dpi=300)"
   ]
  },
  {
   "cell_type": "code",
   "execution_count": null,
   "metadata": {},
   "outputs": [],
   "source": [
    "for c in 'SNOPQR':\n",
    "    ax.roi(c, linewidth=2, alpha=0.6, color='y')\n",
    "    for n in range(8):\n",
    "        ax.roi(f'{c}{n}', linewidth=1, alpha=0.3, color='y')\n",
    "\n",
    "for n in range(8):\n",
    "    ax.roi(f'R7{n}', linewidth=1, alpha=0.3, color='y')\n",
    "    \n",
    "ax.figure"
   ]
  },
  {
   "cell_type": "code",
   "execution_count": null,
   "metadata": {},
   "outputs": [],
   "source": [
    "#!open dggs_earth_23.png\n",
    "#!open dggs_earth_00_grids.png"
   ]
  }
 ],
 "metadata": {
  "kernelspec": {
   "display_name": "Python 3",
   "language": "python",
   "name": "python3"
  },
  "language_info": {
   "codemirror_mode": {
    "name": "ipython",
    "version": 3
   },
   "file_extension": ".py",
   "mimetype": "text/x-python",
   "name": "python",
   "nbconvert_exporter": "python",
   "pygments_lexer": "ipython3",
   "version": "3.6.3"
  }
 },
 "nbformat": 4,
 "nbformat_minor": 2
}
