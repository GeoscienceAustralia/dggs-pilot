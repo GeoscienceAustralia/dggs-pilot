{
 "cells": [
  {
   "cell_type": "code",
   "execution_count": null,
   "metadata": {},
   "outputs": [],
   "source": [
    "#%matplotlib notebook\n",
    "%matplotlib inline\n",
    "\n",
    "import matplotlib.pyplot as plt\n",
    "import numpy as np\n",
    "import xarray as xr\n",
    "import importlib\n",
    "import kk.tools\n",
    "import kk.uitools\n",
    "from kk.dggs import DGGS\n",
    "#importlib.reload(kk.tools)\n"
   ]
  },
  {
   "cell_type": "code",
   "execution_count": null,
   "metadata": {},
   "outputs": [],
   "source": [
    "dg = DGGS()\n",
    "\n",
    "def cell_bounds(addr):\n",
    "    tr, (maxW, maxH) = dg.pixel_coord_transform(addr, 1,1, native=True, no_offset=True)\n",
    "    x_min, y_min = tr(0,0)\n",
    "    x_max, y_max = tr(1,1)\n",
    "    return (x_min, x_max, y_min, y_max)\n",
    "\n",
    "def cell_center(addr):\n",
    "    tr, (maxW, maxH) = dg.pixel_coord_transform(addr, 1,1, native=True)\n",
    "    return tr(0,0)\n",
    "\n",
    "\n",
    "def merge_extents(e1, e2):\n",
    "    if e1 is None:\n",
    "        return e2\n",
    "    \n",
    "    return [min(e1[0], e2[0]), max(e1[1], e2[1]),\n",
    "            min(e1[2], e2[2]), max(e1[3], e2[3])]\n",
    "\n",
    "def hide_axis(ax):\n",
    "    ax.xaxis.set_visible(False)\n",
    "    ax.yaxis.set_visible(False)\n",
    "    ax.axis('off')\n",
    "    \n",
    "def plot_all(data, south_square=0, north_square=0, ax=None):\n",
    "    dg = DGGS()\n",
    "    dh = dg.mk_display_helper(south_square=south_square, north_square=north_square)\n",
    "    \n",
    "    if ax is None:\n",
    "        fig = plt.figure()\n",
    "        ax = fig.add_axes([0,0,1,1])\n",
    "    else:\n",
    "        fig = None\n",
    "        \n",
    "    extents = None\n",
    "\n",
    "    for addr, ds in data.items():\n",
    "        \n",
    "        im = np.dstack([ds.red.values, ds.green.values, ds.blue.values] )\n",
    "        im, ee = dh(addr, im)\n",
    "        extents = merge_extents(extents, ee)\n",
    "        ax.imshow(im, extent=ee)\n",
    "\n",
    "    ax.set_xlim(*extents[:2])\n",
    "    ax.set_ylim(*extents[2:])\n",
    "    return fig"
   ]
  },
  {
   "cell_type": "code",
   "execution_count": null,
   "metadata": {},
   "outputs": [],
   "source": [
    "dd = kk.tools.h5_load('earth.h5')"
   ]
  },
  {
   "cell_type": "code",
   "execution_count": null,
   "metadata": {},
   "outputs": [],
   "source": [
    "fig0 = plot_all(dd, south_square=0)\n",
    "fig23 = plot_all(dd, south_square=3, north_square=2)\n",
    "\n",
    "for ax in fig0.axes:\n",
    "    hide_axis(ax)\n",
    "for ax in fig23.axes:\n",
    "    hide_axis(ax)"
   ]
  },
  {
   "cell_type": "code",
   "execution_count": null,
   "metadata": {},
   "outputs": [],
   "source": [
    "fig0.savefig('dggs_earth_00.png', dpi=300)\n",
    "fig23.savefig('dggs_earth_23.png', dpi=300)"
   ]
  },
  {
   "cell_type": "code",
   "execution_count": null,
   "metadata": {},
   "outputs": [],
   "source": [
    "#!open dggs_earth_23.png"
   ]
  },
  {
   "cell_type": "code",
   "execution_count": null,
   "metadata": {},
   "outputs": [],
   "source": [
    "fig0 = plot_all(dd)\n",
    "for ax in fig0.axes:\n",
    "    hide_axis(ax)\n",
    "\n",
    "for c in 'SNPQR':\n",
    "    kk.uitools.add_cell_plot(c, 'y-', linewidth=2, alpha=0.3, native=True)"
   ]
  },
  {
   "cell_type": "code",
   "execution_count": null,
   "metadata": {},
   "outputs": [],
   "source": []
  }
 ],
 "metadata": {
  "kernelspec": {
   "display_name": "Python 3",
   "language": "python",
   "name": "python3"
  },
  "language_info": {
   "codemirror_mode": {
    "name": "ipython",
    "version": 3
   },
   "file_extension": ".py",
   "mimetype": "text/x-python",
   "name": "python",
   "nbconvert_exporter": "python",
   "pygments_lexer": "ipython3",
   "version": "3.6.3"
  }
 },
 "nbformat": 4,
 "nbformat_minor": 2
}
