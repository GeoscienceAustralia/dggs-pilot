{
 "cells": [
  {
   "cell_type": "code",
   "execution_count": null,
   "metadata": {},
   "outputs": [],
   "source": [
    "#%matplotlib notebook\n",
    "%matplotlib inline\n",
    "\n",
    "import matplotlib.pyplot as plt\n",
    "import numpy as np\n",
    "import xarray as xr\n",
    "import importlib\n",
    "import kk.tools\n",
    "from kk.dggs import DGGS\n",
    "#importlib.reload(kk.tools)\n"
   ]
  },
  {
   "cell_type": "code",
   "execution_count": null,
   "metadata": {},
   "outputs": [],
   "source": [
    "def merge_extents(e1, e2):\n",
    "    if e1 is None:\n",
    "        return e2\n",
    "    \n",
    "    return [min(e1[0], e2[0]), max(e1[1], e2[1]),\n",
    "            min(e1[2], e2[2]), max(e1[3], e2[3])]\n",
    "\n",
    "def plot_all(data, band_idx=0, south_square=0, north_square=0):\n",
    "    dg = DGGS()\n",
    "    dh = dg.mk_display_helper(south_square=south_square, north_square=north_square)\n",
    "    \n",
    "    fig = plt.figure()\n",
    "    ax = fig.add_axes([0,0,1,1])\n",
    "    extents = None\n",
    "\n",
    "    for addr, ds in data.items():\n",
    "        im = list(ds.data_vars.values())[band_idx].values\n",
    "        if np.isnan(im).all():\n",
    "            continue\n",
    "        im, ee = dh(addr, im)\n",
    "        extents = merge_extents(extents, ee)\n",
    "        ax.imshow(im, extent=ee)\n",
    "\n",
    "    ax.set_xlim(*extents[:2])\n",
    "    ax.set_ylim(*extents[2:])\n",
    "    return fig"
   ]
  },
  {
   "cell_type": "code",
   "execution_count": null,
   "metadata": {},
   "outputs": [],
   "source": [
    "dd = kk.tools.h5_load('abs_population.h5')\n",
    "fig = plot_all(dd, band_idx=0, south_square=3)"
   ]
  },
  {
   "cell_type": "code",
   "execution_count": null,
   "metadata": {},
   "outputs": [],
   "source": []
  }
 ],
 "metadata": {
  "kernelspec": {
   "display_name": "Python 3",
   "language": "python",
   "name": "python3"
  },
  "language_info": {
   "codemirror_mode": {
    "name": "ipython",
    "version": 3
   },
   "file_extension": ".py",
   "mimetype": "text/x-python",
   "name": "python",
   "nbconvert_exporter": "python",
   "pygments_lexer": "ipython3",
   "version": "3.6.3"
  }
 },
 "nbformat": 4,
 "nbformat_minor": 2
}
