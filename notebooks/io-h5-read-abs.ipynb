{
 "cells": [
  {
   "cell_type": "code",
   "execution_count": null,
   "metadata": {},
   "outputs": [],
   "source": [
    "#%matplotlib notebook\n",
    "%matplotlib inline\n",
    "\n",
    "import matplotlib.pyplot as plt\n",
    "import numpy as np\n",
    "import xarray as xr\n",
    "from dggs import DGGS, io as dggs_io, uitools"
   ]
  },
  {
   "cell_type": "code",
   "execution_count": null,
   "metadata": {},
   "outputs": [],
   "source": [
    "dd = dggs_io.h5_load('abs_population_lvl8.h5')"
   ]
  },
  {
   "cell_type": "code",
   "execution_count": null,
   "metadata": {},
   "outputs": [],
   "source": [
    "fig = plt.figure(figsize=(12,6))\n",
    "ax_main = uitools.DgDraw(fig.add_axes([0,0,1,1]), south_square=3)\n",
    "ax_zoom = uitools.DgDraw(fig.add_axes([0,0.4,0.3,0.6]), south_square=3)\n",
    "ax_zoom._ax.set_anchor('NW')\n",
    "ax_main._ax.set_anchor('NW')\n",
    "ax_zoom.hide_axis()\n",
    "ax_main.hide_axis()\n",
    "\n",
    "ax_main.imshow(dd)\n",
    "\n",
    "cell = DGGS.Address('R78474761')\n",
    "cell_ = cell.scale_up(3)\n",
    "\n",
    "ax_zoom.roi(cell, 'm-')\n",
    "ax_zoom.roi(cell_, 'm-')\n",
    "ax_main.roi(cell_, 'm-')\n",
    "\n",
    "ax_zoom.annotate(str(cell),\n",
    "                 addr=cell,\n",
    "                 xytext=(40,-2),\n",
    "                 textcoords='offset points',\n",
    "                 bbox=dict(facecolor='white', alpha=0.9))\n",
    "\n",
    "ax_main.annotate(str(cell_),\n",
    "                 addr=cell_,\n",
    "                 xytext=(10,-2),\n",
    "                 textcoords='offset points',\n",
    "                 bbox=dict(facecolor='white', alpha=0.9))\n",
    "\n",
    "ax_zoom.imshow(dd)\n",
    "ax_zoom.zoom(cell_);"
   ]
  },
  {
   "cell_type": "code",
   "execution_count": null,
   "metadata": {},
   "outputs": [],
   "source": [
    "fig.savefig('abs_dggs_plot.png', dpi=300)"
   ]
  },
  {
   "cell_type": "markdown",
   "metadata": {},
   "source": [
    "-----------------------------------------------"
   ]
  },
  {
   "cell_type": "code",
   "execution_count": null,
   "metadata": {},
   "outputs": [],
   "source": [
    "#!open abs_dggs_plot.png"
   ]
  },
  {
   "cell_type": "code",
   "execution_count": null,
   "metadata": {},
   "outputs": [],
   "source": [
    "expected_total = 24216810.0\n",
    "\n",
    "total_count = np.r_[[a.sum().population_count.values.item() for a in dd]].sum()\n",
    "\n",
    "expected_total/total_count"
   ]
  },
  {
   "cell_type": "code",
   "execution_count": null,
   "metadata": {},
   "outputs": [],
   "source": [
    "ds = dd[0]\n",
    "ds.population_count.max()"
   ]
  },
  {
   "cell_type": "code",
   "execution_count": null,
   "metadata": {},
   "outputs": [],
   "source": [
    "DGGS.Image(ds.population_count.values, 'R36000000')['R78474761']"
   ]
  },
  {
   "cell_type": "code",
   "execution_count": null,
   "metadata": {},
   "outputs": [],
   "source": [
    "ds.population_count.max()"
   ]
  },
  {
   "cell_type": "code",
   "execution_count": null,
   "metadata": {},
   "outputs": [],
   "source": [
    "np.where((ds.population_count == ds.population_count.max()).values)"
   ]
  },
  {
   "cell_type": "code",
   "execution_count": null,
   "metadata": {},
   "outputs": [],
   "source": []
  }
 ],
 "metadata": {
  "kernelspec": {
   "display_name": "Python 3",
   "language": "python",
   "name": "python3"
  },
  "language_info": {
   "codemirror_mode": {
    "name": "ipython",
    "version": 3
   },
   "file_extension": ".py",
   "mimetype": "text/x-python",
   "name": "python",
   "nbconvert_exporter": "python",
   "pygments_lexer": "ipython3",
   "version": "3.6.3"
  }
 },
 "nbformat": 4,
 "nbformat_minor": 2
}
