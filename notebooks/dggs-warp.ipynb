{
 "cells": [
  {
   "cell_type": "code",
   "execution_count": null,
   "metadata": {},
   "outputs": [],
   "source": [
    "%matplotlib notebook\n",
    "#%matplotlib inline\n",
    "\n",
    "import matplotlib.pyplot as plt\n",
    "import rasterio\n",
    "import rasterio.warp\n",
    "import numpy as np\n",
    "import math\n",
    "from scipy import ndimage as ndi\n",
    "\n",
    "import pyproj\n",
    "import xarray as xr\n",
    "import fiona\n",
    "import shapely\n",
    "import pydash\n",
    "from osgeo import osr\n",
    "from numpy import pi, r_, c_, vstack, hstack\n",
    "import sys\n",
    "import cv2\n",
    "\n",
    "import kk.dggs\n",
    "from kk.dggs import DGGS\n",
    "from kk.tools import polygon_path"
   ]
  },
  {
   "cell_type": "code",
   "execution_count": null,
   "metadata": {},
   "outputs": [],
   "source": [
    "def get_affine(fname):\n",
    "    with rasterio.open(fname) as f:\n",
    "        return f.affine\n",
    "\n",
    "def get_poly_lines():\n",
    "    with fiona.open('/Users/kirill/wk/dggs/qgis/data/cstauscd_l.shp') as f:\n",
    "        return [np.r_[ pydash.get(p, 'geometry.coordinates') ].T \n",
    "                for p in f if pydash.get(p, 'properties.FEAT_CODE') == 'tile_edge']"
   ]
  },
  {
   "cell_type": "code",
   "execution_count": null,
   "metadata": {},
   "outputs": [],
   "source": [
    "filename='/Users/kirill/wk/dggs/earth.tif'"
   ]
  },
  {
   "cell_type": "code",
   "execution_count": null,
   "metadata": {},
   "outputs": [],
   "source": [
    "A = get_affine(filename)\n",
    "ds = xr.open_rasterio(filename)\n",
    "ds.attrs['affine'] = A\n",
    "src = np.dstack(ds.values)\n",
    "src_ = src[::8,::8,:]"
   ]
  },
  {
   "cell_type": "code",
   "execution_count": null,
   "metadata": {},
   "outputs": [],
   "source": [
    "A, ds.crs, ds.attrs"
   ]
  },
  {
   "cell_type": "code",
   "execution_count": null,
   "metadata": {},
   "outputs": [],
   "source": [
    "pp_tile_edge = get_poly_lines()\n",
    "len(pp_tile_edge)    "
   ]
  },
  {
   "cell_type": "code",
   "execution_count": null,
   "metadata": {},
   "outputs": [],
   "source": [
    "plt.figure(figsize=(9,5))\n",
    "plt.imshow(src_, extent=[-180,180,-90,90])\n",
    "for p in pp_tile_edge:\n",
    "    x,y = p\n",
    "    plt.plot(x,y,'m-')\n",
    "#plt.axis('equal')\n",
    "pass"
   ]
  },
  {
   "cell_type": "code",
   "execution_count": null,
   "metadata": {},
   "outputs": [],
   "source": [
    "dg = DGGS()"
   ]
  },
  {
   "cell_type": "code",
   "execution_count": null,
   "metadata": {},
   "outputs": [],
   "source": [
    "def warp_all(ds, dg, scale_level):\n",
    "    def impl(code):\n",
    "        addr = code + '0'*scale_level\n",
    "        wrp = dg.mk_warper(addr)\n",
    "        bands = [wrp(ds.isel(band=i).values, ds.affine) for i in range(ds.band.shape[0])]\n",
    "        \n",
    "        return addr, bands\n",
    "    \n",
    "    return dict(map(impl, 'SNOPQR'))\n",
    "        \n",
    "bb = warp_all(ds, dg, scale_level=7)      "
   ]
  },
  {
   "cell_type": "code",
   "execution_count": null,
   "metadata": {},
   "outputs": [],
   "source": [
    "def merge_extents(e1, e2):\n",
    "    if e1 is None:\n",
    "        return e2\n",
    "    \n",
    "    return [min(e1[0], e2[0]), max(e1[1], e2[1]),\n",
    "            min(e1[2], e2[2]), max(e1[3], e2[3])]\n",
    "\n",
    "def plot_all(south_square=0, north_square=0):\n",
    "    dh = dg.mk_display_helper(south_square=south_square, north_square=north_square)\n",
    "    fig = plt.figure()\n",
    "    ax = fig.add_axes([0,0,1,1])\n",
    "    extents = None\n",
    "\n",
    "    for a, b in bb.items():\n",
    "        im, ee = dh(a, np.dstack(b))\n",
    "        #print(ee)\n",
    "        extents = merge_extents(extents, ee)\n",
    "        ax.imshow(im, extent=ee)\n",
    "\n",
    "    ax.set_xlim(*extents[:2])\n",
    "    ax.set_ylim(*extents[2:])\n",
    "    return fig\n",
    "\n",
    "fig = plot_all(south_square=3, north_square=2)"
   ]
  },
  {
   "cell_type": "code",
   "execution_count": null,
   "metadata": {},
   "outputs": [],
   "source": [
    "dh = dg.mk_display_helper(south_square=3, north_square=2)\n",
    "\n",
    "[dh(code+'340', (123,37)) for code in 'SNOPQR']"
   ]
  },
  {
   "cell_type": "code",
   "execution_count": null,
   "metadata": {},
   "outputs": [],
   "source": [
    "def cell_extent(cell_addr):\n",
    "    tr, (maxW, maxH) = dg.pixel_coord_transform(cell_addr)\n",
    "\n",
    "    b = 0.5 - 1e-6\n",
    "    x,y = polygon_path([-b,+b])\n",
    "\n",
    "    return tr(x,y)\n",
    "\n",
    "def plot_cell(cell_addr, style='-', ax = None):\n",
    "    if ax is None:\n",
    "        ax = plt.gca()\n",
    "        \n",
    "    u,v = cell_extent(cell_addr)\n",
    "    return ax.plot(u,v, style)\n",
    "    \n",
    "fig = plt.figure(figsize=(9,5))\n",
    "ax = fig.add_subplot(111)\n",
    "ax.imshow(src_, extent=(-180,180,-90,90))\n",
    "\n",
    "plot_cell('R', 'r-')\n",
    "plot_cell('R65', 'c-')\n",
    "plot_cell('R68', 'c-')\n",
    "plot_cell('R7', 'm-')\n",
    "plot_cell('R7444444', 'm-')\n",
    "\n",
    "\n",
    "\n",
    "#plot_cell('S6', 'y-')\n",
    "for i in range(9):\n",
    "    if i not in [0,4,8]:\n",
    "        plot_cell('S0'+str(i), 'm-')\n",
    "    \n",
    "    plot_cell('S6'+str(i), 'y-')\n",
    "    plot_cell('S2'+str(i), 'c-')\n",
    "    plot_cell('S8'+str(i), 'm-')\n",
    "\n",
    "    plot_cell('S3'+str(i), 'g-')\n",
    "    plot_cell('S1'+str(i), 'r-')\n",
    "    plot_cell('S7'+str(i), 'b-')\n",
    "    plot_cell('S5'+str(i), 'w-')\n",
    "\n",
    "ax.axis('equal')\n",
    "pass"
   ]
  },
  {
   "cell_type": "code",
   "execution_count": null,
   "metadata": {},
   "outputs": [],
   "source": [
    "fig = plt.figure(figsize=(8,6))\n",
    "ax = plt.Axes(fig, [0,0, 1,1])\n",
    "ax.set_axis_off()\n",
    "ax.set_xlim(0,4)\n",
    "ax.set_ylim(0,3)\n",
    "fig.add_axes(ax)\n",
    "\n",
    "ex = lambda x,y: (x, x + 1, y, y + 1)\n",
    "\n",
    "ax.imshow(np.dstack(bb['N0000000']), extent=ex(0,2))\n",
    "ax.imshow(np.dstack(bb['O0000000']), extent=ex(0,1))\n",
    "ax.imshow(np.dstack(bb['S0000000']), extent=ex(0,0))\n",
    "ax.imshow(np.dstack(bb['P0000000']), extent=ex(1,1))\n",
    "ax.imshow(np.dstack(bb['Q0000000']), extent=ex(2,1))\n",
    "ax.imshow(np.dstack(bb['R0000000']), extent=ex(3,1))"
   ]
  },
  {
   "cell_type": "code",
   "execution_count": null,
   "metadata": {},
   "outputs": [],
   "source": []
  },
  {
   "cell_type": "code",
   "execution_count": null,
   "metadata": {},
   "outputs": [],
   "source": []
  }
 ],
 "metadata": {
  "kernelspec": {
   "display_name": "Python 3",
   "language": "python",
   "name": "python3"
  },
  "language_info": {
   "codemirror_mode": {
    "name": "ipython",
    "version": 3
   },
   "file_extension": ".py",
   "mimetype": "text/x-python",
   "name": "python",
   "nbconvert_exporter": "python",
   "pygments_lexer": "ipython3",
   "version": "3.6.3"
  }
 },
 "nbformat": 4,
 "nbformat_minor": 2
}
