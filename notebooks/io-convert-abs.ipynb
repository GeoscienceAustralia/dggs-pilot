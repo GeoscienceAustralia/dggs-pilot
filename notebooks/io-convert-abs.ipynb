{
 "cells": [
  {
   "cell_type": "code",
   "execution_count": null,
   "metadata": {},
   "outputs": [],
   "source": [
    "%matplotlib notebook\n",
    "#%matplotlib inline\n",
    "\n",
    "import matplotlib.pyplot as plt\n",
    "import numpy as np\n",
    "\n",
    "\n",
    "from kk.dggs import DGGS\n",
    "import kk.tools\n",
    "from kk.tools import convert"
   ]
  },
  {
   "cell_type": "code",
   "execution_count": null,
   "metadata": {},
   "outputs": [],
   "source": [
    "import importlib\n",
    "importlib.reload(kk.tools)\n",
    "from kk.tools import convert"
   ]
  },
  {
   "cell_type": "code",
   "execution_count": null,
   "metadata": {},
   "outputs": [],
   "source": [
    "# Original: 6906 x 3823 albers\n",
    "# S06003363  149 x 3996\n",
    "# R36006000 5669 x 2862\n",
    "# Q88208355  181 x  450\n"
   ]
  },
  {
   "cell_type": "code",
   "execution_count": null,
   "metadata": {},
   "outputs": [],
   "source": [
    "src='/Users/kirill/wk/dggs/abs_data/apg16e1_1_1_0.tif'\n",
    "\n",
    "data = convert(src, 'abs_population.h5', 8, ['population_count'], inter='area')"
   ]
  },
  {
   "cell_type": "code",
   "execution_count": null,
   "metadata": {},
   "outputs": [],
   "source": [
    "for addr, bands in data.items():\n",
    "    h,w = bands[0].shape\n",
    "    display(f'{addr} {w}x{h}')"
   ]
  },
  {
   "cell_type": "code",
   "execution_count": null,
   "metadata": {},
   "outputs": [],
   "source": [
    "def select_band(data, band_idx):\n",
    "    return {addr:band[band_idx] for addr,band in data.items()}\n",
    "\n",
    "\n",
    "def merge_extents(e1, e2):\n",
    "    if e1 is None:\n",
    "        return e2\n",
    "    \n",
    "    return [min(e1[0], e2[0]), max(e1[1], e2[1]),\n",
    "            min(e1[2], e2[2]), max(e1[3], e2[3])]\n",
    "\n",
    "def plot_all(data, south_square=0, north_square=0):\n",
    "    dg = DGGS()\n",
    "    dh = dg.mk_display_helper(south_square=south_square, north_square=north_square)\n",
    "    \n",
    "    fig = plt.figure()\n",
    "    ax = fig.add_axes([0,0,1,1])\n",
    "    extents = None\n",
    "\n",
    "    for addr, im in data.items():\n",
    "        if np.isnan(im).all():\n",
    "            continue\n",
    "        im, ee = dh(addr, im)\n",
    "        extents = merge_extents(extents, ee)\n",
    "        ax.imshow(im, extent=ee)\n",
    "\n",
    "    ax.set_xlim(*extents[:2])\n",
    "    ax.set_ylim(*extents[2:])\n",
    "    return fig\n",
    "\n",
    "fig = plot_all(select_band(data,0) , south_square=3)"
   ]
  },
  {
   "cell_type": "code",
   "execution_count": null,
   "metadata": {},
   "outputs": [],
   "source": [
    "sums = np.r_[[np.nansum(im) for im in select_band(data,0).values()]]\n",
    "sums, sums.sum()"
   ]
  },
  {
   "cell_type": "code",
   "execution_count": null,
   "metadata": {},
   "outputs": [],
   "source": []
  }
 ],
 "metadata": {
  "kernelspec": {
   "display_name": "Python 3",
   "language": "python",
   "name": "python3"
  },
  "language_info": {
   "codemirror_mode": {
    "name": "ipython",
    "version": 3
   },
   "file_extension": ".py",
   "mimetype": "text/x-python",
   "name": "python",
   "nbconvert_exporter": "python",
   "pygments_lexer": "ipython3",
   "version": "3.6.3"
  }
 },
 "nbformat": 4,
 "nbformat_minor": 2
}
