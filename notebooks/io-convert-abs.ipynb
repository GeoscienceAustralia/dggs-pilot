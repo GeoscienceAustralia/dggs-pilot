{
 "cells": [
  {
   "cell_type": "code",
   "execution_count": null,
   "metadata": {},
   "outputs": [],
   "source": [
    "from dggs.applib import abs_data_convert\n",
    "\n",
    "src_file = './data/abs/apg16e1_1_1_0.tif'\n",
    "\n",
    "abs_data_convert(src_file, 'abs_population_lvl8.h5', scale_level=8, align_by=5)\n",
    "abs_data_convert(src_file, 'abs_population.h5', scale_level=9, align_by=5)"
   ]
  },
  {
   "cell_type": "code",
   "execution_count": null,
   "metadata": {},
   "outputs": [],
   "source": [
    "!ncdump -hs abs_population_lvl8.h5\n",
    "!ncdump -hs abs_population.h5"
   ]
  }
 ],
 "metadata": {
  "kernelspec": {
   "display_name": "Python 3",
   "language": "python",
   "name": "python3"
  },
  "language_info": {
   "codemirror_mode": {
    "name": "ipython",
    "version": 3
   },
   "file_extension": ".py",
   "mimetype": "text/x-python",
   "name": "python",
   "nbconvert_exporter": "python",
   "pygments_lexer": "ipython3",
   "version": "3.6.3"
  }
 },
 "nbformat": 4,
 "nbformat_minor": 2
}
