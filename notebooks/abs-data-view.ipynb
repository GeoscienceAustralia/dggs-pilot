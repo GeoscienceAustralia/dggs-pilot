{
 "cells": [
  {
   "cell_type": "code",
   "execution_count": null,
   "metadata": {},
   "outputs": [],
   "source": [
    "%matplotlib notebook\n",
    "#%matplotlib inline\n",
    "\n",
    "import matplotlib.pyplot as plt\n",
    "import rasterio\n",
    "import rasterio.warp\n",
    "import numpy as np\n",
    "import math\n",
    "from scipy import ndimage as ndi\n",
    "\n",
    "import pyproj\n",
    "import xarray as xr\n",
    "import fiona\n",
    "import shapely\n",
    "import pydash\n",
    "from osgeo import osr\n",
    "from numpy import pi, r_, c_, vstack, hstack\n",
    "import sys\n",
    "\n",
    "from kk.dggs import DGGS\n",
    "from kk.tools import polygon_path, spread_num_samples, gen_pts_from_distribution"
   ]
  },
  {
   "cell_type": "code",
   "execution_count": null,
   "metadata": {},
   "outputs": [],
   "source": [
    "def get_affine(fname):\n",
    "    with rasterio.open(fname) as f:\n",
    "        return f.affine\n",
    "\n",
    "def get_poly_lines():\n",
    "    with fiona.open('/Users/kirill/wk/dggs/qgis/data/cstauscd_l.shp') as f:\n",
    "        return [np.r_[ pydash.get(p, 'geometry.coordinates') ].T \n",
    "                for p in f if pydash.get(p, 'properties.FEAT_CODE') == 'tile_edge']"
   ]
  },
  {
   "cell_type": "code",
   "execution_count": null,
   "metadata": {},
   "outputs": [],
   "source": [
    "filename = '/Users/kirill/wk/dggs/abs_data/apg16e1_1_1_0.tif'"
   ]
  },
  {
   "cell_type": "code",
   "execution_count": null,
   "metadata": {},
   "outputs": [],
   "source": [
    "A = get_affine(filename)\n",
    "ds = xr.open_rasterio(filename)\n",
    "ds.attrs['affine'] = A\n",
    "#ds.values[ds.values<0] = 0\n",
    "\n",
    "src = ds.isel(band=0)\n",
    "ds.sum(), src.sum()"
   ]
  },
  {
   "cell_type": "code",
   "execution_count": null,
   "metadata": {},
   "outputs": [],
   "source": [
    "np.unique( src.values[src.values<0].ravel() )"
   ]
  },
  {
   "cell_type": "code",
   "execution_count": null,
   "metadata": {},
   "outputs": [],
   "source": [
    "plt.figure()\n",
    "(src>0).plot.imshow()\n",
    "plt.axis('equal')"
   ]
  },
  {
   "cell_type": "code",
   "execution_count": null,
   "metadata": {},
   "outputs": [],
   "source": [
    "src.values.astype('float64').sum(), src.values.sum()"
   ]
  },
  {
   "cell_type": "code",
   "execution_count": null,
   "metadata": {},
   "outputs": [],
   "source": [
    "W = src.values\n",
    "iy,ix = np.where(W > 0)\n",
    "vv = W[iy,ix]\n",
    "\n",
    "#vv = src.values.ravel()\n",
    "vv.min(), vv.max(), vv.sum(), vv.shape"
   ]
  },
  {
   "cell_type": "code",
   "execution_count": null,
   "metadata": {},
   "outputs": [],
   "source": [
    "vv_ = spread_num_samples(vv)\n",
    "vv_.sum(), vv.sum()"
   ]
  },
  {
   "cell_type": "code",
   "execution_count": null,
   "metadata": {},
   "outputs": [],
   "source": [
    "plt.figure()\n",
    "plt.hist( np.log(vv), 100)\n",
    "pass"
   ]
  },
  {
   "cell_type": "code",
   "execution_count": null,
   "metadata": {},
   "outputs": [],
   "source": [
    "plt.figure()\n",
    "plt.imshow(np.isfinite(src.values))\n",
    "h = plt.scatter(ix,iy, marker='.', s=np.log(vv+1.0), c='m')\n",
    "h.set_alpha(0.1)"
   ]
  },
  {
   "cell_type": "code",
   "execution_count": null,
   "metadata": {},
   "outputs": [],
   "source": [
    "crs = pyproj.Proj(ds.crs)\n",
    "\n",
    "x_,y_ = A*(0.5 + np.vstack([ix,iy]))\n",
    "\n",
    "plt.figure()\n",
    "#src.plot.imshow()\n",
    "plt.axis('equal')\n",
    "h = plt.scatter(x_, y_, marker='.', s=np.log(vv+1.0), c='m')\n",
    "h.set_alpha(0.1)"
   ]
  },
  {
   "cell_type": "code",
   "execution_count": null,
   "metadata": {},
   "outputs": [],
   "source": [
    "#!gdalinfo /Users/kirill/wk/dggs/abs_data/apg16e1_1_1_0.tif"
   ]
  },
  {
   "cell_type": "code",
   "execution_count": null,
   "metadata": {},
   "outputs": [],
   "source": [
    "lx, ly = crs(x_,y_, inverse=True)\n",
    "\n",
    "plt.figure()\n",
    "plt.plot(lx,ly,'.', markersize=0.1)\n",
    "plt.axis('equal')\n",
    "pass"
   ]
  },
  {
   "cell_type": "code",
   "execution_count": null,
   "metadata": {},
   "outputs": [],
   "source": [
    "xy = gen_pts_from_distribution(src.values, A)\n",
    "lx,ly = crs(xy[0], xy[1], inverse=True)"
   ]
  },
  {
   "cell_type": "code",
   "execution_count": null,
   "metadata": {},
   "outputs": [],
   "source": [
    "plt.figure()\n",
    "h = plt.plot(lx[::10], ly[::10], 'm.', markersize=0.1, alpha=0.3)\n",
    "plt.axis('equal')"
   ]
  },
  {
   "cell_type": "code",
   "execution_count": null,
   "metadata": {},
   "outputs": [],
   "source": [
    "#np.save('/Users/kirill/wk/dggs/abs_gen_pts.npy', np.c_[lx,ly])\n",
    "#!ls -lh /Users/kirill/wk/dggs/abs_gen_pts.npy"
   ]
  },
  {
   "cell_type": "code",
   "execution_count": null,
   "metadata": {},
   "outputs": [],
   "source": [
    "ds.values[0].shape"
   ]
  },
  {
   "cell_type": "code",
   "execution_count": null,
   "metadata": {},
   "outputs": [],
   "source": []
  }
 ],
 "metadata": {
  "kernelspec": {
   "display_name": "Python 3",
   "language": "python",
   "name": "python3"
  },
  "language_info": {
   "codemirror_mode": {
    "name": "ipython",
    "version": 3
   },
   "file_extension": ".py",
   "mimetype": "text/x-python",
   "name": "python",
   "nbconvert_exporter": "python",
   "pygments_lexer": "ipython3",
   "version": "3.6.3"
  }
 },
 "nbformat": 4,
 "nbformat_minor": 2
}
