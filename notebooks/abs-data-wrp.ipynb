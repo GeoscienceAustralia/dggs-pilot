{
 "cells": [
  {
   "cell_type": "code",
   "execution_count": null,
   "metadata": {
    "collapsed": true
   },
   "outputs": [],
   "source": [
    "%matplotlib notebook\n",
    "#%matplotlib inline\n",
    "\n",
    "import matplotlib.pyplot as plt\n",
    "import rasterio\n",
    "import rasterio.warp\n",
    "import numpy as np\n",
    "import math\n",
    "from scipy import ndimage as ndi\n",
    "\n",
    "import pyproj\n",
    "import xarray as xr\n",
    "import fiona\n",
    "import shapely\n",
    "import pydash\n",
    "from osgeo import osr\n",
    "from numpy import pi, r_, c_, vstack, hstack\n",
    "import sys\n",
    "\n",
    "from kk.dggs import DGGS\n",
    "from kk.tools import polygon_path, spread_num_samples, gen_pts_from_distribution"
   ]
  },
  {
   "cell_type": "code",
   "execution_count": null,
   "metadata": {
    "collapsed": true
   },
   "outputs": [],
   "source": [
    "def get_affine(fname):\n",
    "    with rasterio.open(fname) as f:\n",
    "        return f.affine\n",
    "\n",
    "def get_poly_lines():\n",
    "    with fiona.open('/Users/kirill/wk/dggs/qgis/data/cstauscd_l.shp') as f:\n",
    "        return [np.r_[ pydash.get(p, 'geometry.coordinates') ].T \n",
    "                for p in f if pydash.get(p, 'properties.FEAT_CODE') == 'tile_edge']"
   ]
  },
  {
   "cell_type": "code",
   "execution_count": null,
   "metadata": {
    "collapsed": true
   },
   "outputs": [],
   "source": [
    "filename = '/Users/kirill/wk/dggs/abs_data/apg16e1_1_1_0.tif'"
   ]
  },
  {
   "cell_type": "code",
   "execution_count": null,
   "metadata": {},
   "outputs": [],
   "source": [
    "A = get_affine(filename)\n",
    "ds = xr.open_rasterio(filename)\n",
    "ds.attrs['affine'] = A\n",
    "ds.values[ds.values<0] = np.nan\n",
    "\n",
    "src = ds.isel(band=0)\n",
    "ds.sum(), src.sum()"
   ]
  },
  {
   "cell_type": "code",
   "execution_count": null,
   "metadata": {},
   "outputs": [],
   "source": [
    "plt.figure()\n",
    "src.plot.imshow()\n",
    "plt.axis('equal')"
   ]
  },
  {
   "cell_type": "code",
   "execution_count": null,
   "metadata": {},
   "outputs": [],
   "source": [
    "dg = DGGS()"
   ]
  },
  {
   "cell_type": "code",
   "execution_count": null,
   "metadata": {},
   "outputs": [],
   "source": [
    "tr, (maxW, maxH) = dg.pixel_coord_transform('S30000000', dst_proj=ds.crs)\n",
    "\n",
    "xx, yy = tr(*polygon_path(np.arange(3**7), np.arange(3**7)))\n",
    "\n",
    "plt.figure()\n",
    "plt.plot(xx,yy, 'y.')\n",
    "src.plot.imshow()\n",
    "\n",
    "xx_, yy_ = polygon_path(ds.x, ds.y)\n",
    "plt.plot(xx_, yy_, 'b.')\n",
    "plt.axis('tight')\n",
    "plt.axis('equal')\n",
    "\n",
    "\n"
   ]
  },
  {
   "cell_type": "code",
   "execution_count": null,
   "metadata": {},
   "outputs": [],
   "source": [
    "np.abs(np.diff(yy)).mean()"
   ]
  },
  {
   "cell_type": "code",
   "execution_count": null,
   "metadata": {
    "collapsed": true
   },
   "outputs": [],
   "source": [
    "wrp = dg.mk_warper('R60000000', 3*3**7, 3**7, src_proj=ds.crs)"
   ]
  },
  {
   "cell_type": "code",
   "execution_count": null,
   "metadata": {},
   "outputs": [],
   "source": [
    "im = wrp(ds.values[0], ds.affine)"
   ]
  },
  {
   "cell_type": "code",
   "execution_count": null,
   "metadata": {},
   "outputs": [],
   "source": [
    "plt.figure()\n",
    "plt.imshow(im)"
   ]
  },
  {
   "cell_type": "code",
   "execution_count": null,
   "metadata": {},
   "outputs": [],
   "source": [
    "np.sum(im[np.isfinite(im)])"
   ]
  },
  {
   "cell_type": "code",
   "execution_count": null,
   "metadata": {},
   "outputs": [],
   "source": [
    "np.arange(9).reshape(3,3)"
   ]
  },
  {
   "cell_type": "code",
   "execution_count": null,
   "metadata": {
    "collapsed": true
   },
   "outputs": [],
   "source": []
  }
 ],
 "metadata": {
  "kernelspec": {
   "display_name": "Python 3",
   "language": "python",
   "name": "python3"
  },
  "language_info": {
   "codemirror_mode": {
    "name": "ipython",
    "version": 3
   },
   "file_extension": ".py",
   "mimetype": "text/x-python",
   "name": "python",
   "nbconvert_exporter": "python",
   "pygments_lexer": "ipython3",
   "version": "3.6.2"
  }
 },
 "nbformat": 4,
 "nbformat_minor": 2
}
