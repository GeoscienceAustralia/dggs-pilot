{
 "cells": [
  {
   "cell_type": "code",
   "execution_count": null,
   "metadata": {},
   "outputs": [],
   "source": [
    "%matplotlib notebook\n",
    "#%matplotlib inline\n",
    "\n",
    "import matplotlib.pyplot as plt\n",
    "import rasterio\n",
    "import numpy as np\n",
    "import math\n",
    "import importlib\n",
    "\n",
    "\n",
    "import pyproj\n",
    "import xarray as xr\n",
    "import fiona\n",
    "import shapely\n",
    "import shapely.geometry\n",
    "import shapely.ops\n",
    "\n",
    "from numpy import pi, r_, c_, vstack, hstack\n",
    "\n",
    "import kk.dggs\n",
    "from kk.dggs import DGGS\n",
    "from kk.tools import polygon_path, spread_num_samples, gen_pts_from_distribution\n",
    "from kk.uitools import plot_bbox, add_cell_plot\n"
   ]
  },
  {
   "cell_type": "code",
   "execution_count": null,
   "metadata": {},
   "outputs": [],
   "source": [
    "dg = DGGS()"
   ]
  },
  {
   "cell_type": "code",
   "execution_count": null,
   "metadata": {},
   "outputs": [],
   "source": [
    "import importlib\n",
    "\n",
    "importlib.reload(kk.dggs)\n",
    "dg = kk.dggs.DGGS()"
   ]
  },
  {
   "cell_type": "code",
   "execution_count": null,
   "metadata": {},
   "outputs": [],
   "source": [
    "import kk.uitools\n",
    "importlib.reload(kk.uitools)\n",
    "\n",
    "from kk.uitools import add_cell_plot, plot_bbox"
   ]
  },
  {
   "cell_type": "code",
   "execution_count": null,
   "metadata": {},
   "outputs": [],
   "source": [
    "def get_affine(fname):\n",
    "    with rasterio.open(fname) as f:\n",
    "        return f.affine\n",
    "\n",
    "def get_poly_lines():\n",
    "    with fiona.open('/Users/kirill/wk/dggs/qgis/data/cstauscd_l.shp') as f:\n",
    "        return [np.r_[ pydash.get(p, 'geometry.coordinates') ].T \n",
    "                for p in f if pydash.get(p, 'properties.FEAT_CODE') == 'tile_edge']"
   ]
  },
  {
   "cell_type": "code",
   "execution_count": null,
   "metadata": {},
   "outputs": [],
   "source": [
    "filename = '/Users/kirill/wk/dggs/abs_data/apg16e1_1_1_0.tif'"
   ]
  },
  {
   "cell_type": "code",
   "execution_count": null,
   "metadata": {},
   "outputs": [],
   "source": [
    "A = get_affine(filename)\n",
    "ds = xr.open_rasterio(filename)\n",
    "ds.attrs['affine'] = A\n",
    "ds.values[ds.values<0] = np.nan\n",
    "\n",
    "src = ds.isel(band=0)\n",
    "ds.sum(), src.sum()"
   ]
  },
  {
   "cell_type": "code",
   "execution_count": null,
   "metadata": {},
   "outputs": [],
   "source": [
    "plt.figure()\n",
    "src.plot.imshow()\n",
    "\n",
    "xx_, yy_ = polygon_path(ds.x, ds.y)\n",
    "plt.plot(xx_, yy_, 'y.', markersize=0.1)\n",
    "plt.axis('tight')\n",
    "plt.axis('equal')\n",
    "\n",
    "# S06003363  149 x 3996\n",
    "# R36006000 5669 x 2862\n",
    "# Q88208355  181 x  450\n",
    "\n",
    "add_cell_plot('R36006000', 'r-', w=5669, h=2862, crs=ds.crs)\n",
    "add_cell_plot('S06003363', 'g-', w=149 , h=3996, crs=ds.crs)\n",
    "add_cell_plot('Q88208355', 'm-', w=181 , h=450 , crs=ds.crs)"
   ]
  },
  {
   "cell_type": "code",
   "execution_count": null,
   "metadata": {},
   "outputs": [],
   "source": [
    "rr = {}\n",
    "\n",
    "for addr, w,h in dg.compute_overlap(8, *polygon_path(ds.x, ds.y), ds.crs):\n",
    "    print(f'Processing: {addr} {w:4} x {h:4}')\n",
    "    wrp = dg.mk_warper(addr, w, h, src_proj=ds.crs)\n",
    "    im = wrp(ds.values[0], ds.affine, math.nan)\n",
    "    if np.isnan(im).all():\n",
    "        print('Skipping -- all nans')\n",
    "    else:\n",
    "        rr[addr] = im\n",
    "    print('...done')\n",
    "    \n",
    "\n",
    "for addr, im in rr.items():\n",
    "    plt.figure()\n",
    "    plt.imshow(im)\n",
    "    plt.title(addr + ': {}'.format(np.nansum(im)))"
   ]
  },
  {
   "cell_type": "markdown",
   "metadata": {},
   "source": [
    "```\n",
    "S06003363  149 x 3996\n",
    "Q88208355  181 x  450\n",
    "R36006000 5669 x 2862\n",
    "```"
   ]
  },
  {
   "cell_type": "code",
   "execution_count": null,
   "metadata": {},
   "outputs": [],
   "source": [
    "prj = pyproj.Proj(ds.crs)\n",
    "\n",
    "lx,ly = prj(*polygon_path(ds.x, ds.y), inverse=True)\n",
    "\n",
    "lx_range = np.r_[lx.min(), lx.max()]\n",
    "ly_range = np.r_[ly.min(), ly.max()]\n",
    "\n",
    "\n",
    "fig = plt.figure()\n",
    "ax = fig.add_subplot(111)\n",
    "ax.plot(lx,ly,'b.', markersize=0.1)\n",
    "ax.plot(*polygon_path(lx_range, ly_range), 'r-')\n",
    "\n",
    "cell_styles=dict(N='m-',S='k-', O='r-', P='g-', Q='b-', R='c-')\n",
    "\n",
    "for c,extents in dg.top_level_extents.items():\n",
    "    print(c, extents)\n",
    "    plot_bbox(extents, cell_styles[c], ax=ax)\n",
    "\n",
    "plt.axis('equal')\n"
   ]
  },
  {
   "cell_type": "code",
   "execution_count": null,
   "metadata": {},
   "outputs": [],
   "source": []
  }
 ],
 "metadata": {
  "kernelspec": {
   "display_name": "Python 3",
   "language": "python",
   "name": "python3"
  },
  "language_info": {
   "codemirror_mode": {
    "name": "ipython",
    "version": 3
   },
   "file_extension": ".py",
   "mimetype": "text/x-python",
   "name": "python",
   "nbconvert_exporter": "python",
   "pygments_lexer": "ipython3",
   "version": "3.6.3"
  }
 },
 "nbformat": 4,
 "nbformat_minor": 2
}
