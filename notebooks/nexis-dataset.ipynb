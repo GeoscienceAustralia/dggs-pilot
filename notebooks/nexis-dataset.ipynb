{
 "cells": [
  {
   "cell_type": "code",
   "execution_count": null,
   "metadata": {},
   "outputs": [],
   "source": [
    "%matplotlib inline\n",
    "\n",
    "import matplotlib.pyplot as plt\n",
    "import numpy as np\n",
    "import xarray as xr\n",
    "import dggs\n",
    "from dggs import DGGS, io as dggs_io, uitools\n",
    "import dggs.datasets as data\n",
    "import dggs.applib\n",
    "\n",
    "dg = DGGS()"
   ]
  },
  {
   "cell_type": "code",
   "execution_count": null,
   "metadata": {},
   "outputs": [],
   "source": [
    "df, crs = data.act_nexis()\n",
    "df = dggs.pd_compute_address(df, 15, crs=crs, dg=dg)\n",
    "df.head()"
   ]
  },
  {
   "cell_type": "code",
   "execution_count": null,
   "metadata": {},
   "outputs": [],
   "source": [
    "def mask_getter(scale_level):\n",
    "    suburbs, crs = data.get_by_name('act-suburbs')\n",
    "    \n",
    "    def get(name, as_text = False):\n",
    "        poly = suburbs.get(name)\n",
    "        if poly is None:\n",
    "            return None\n",
    "        \n",
    "        im = dggs.shape_to_mask(suburbs[name], crs=crs, scale_level=scale_level)\n",
    "        if as_text:\n",
    "            return dggs.mask_to_addresses(im)\n",
    "        \n",
    "        return im\n",
    "    \n",
    "    return get\n",
    "        \n",
    "mm = mask_getter(12)\n",
    "\n",
    "query_addr = (mm('BRADDON', as_text=True) + \n",
    "              mm('TURNER', as_text=True))\n",
    "query_addr[:4]+['..']+query_addr[-4:], len(query_addr)"
   ]
  },
  {
   "cell_type": "code",
   "execution_count": null,
   "metadata": {},
   "outputs": [],
   "source": [
    "mm = dggs.applib.pd_naive_overlap(query_addr, df)"
   ]
  },
  {
   "cell_type": "code",
   "execution_count": null,
   "metadata": {},
   "outputs": [],
   "source": [
    "df_ = df[mm]\n",
    "df_[['value','people']].sum()"
   ]
  },
  {
   "cell_type": "code",
   "execution_count": null,
   "metadata": {},
   "outputs": [],
   "source": [
    "cbr_map = dggs_io.h5_load('cbr-google-map.h5')\n",
    "mm_im = dggs.mask_from_addresses(query_addr)\n",
    "\n",
    "ax = uitools.DgDraw(plt.figure())\n",
    "\n",
    "ax.imshow(cbr_map)\n",
    "ax.imshow(mm_im, alpha=0.2, reset_axis=False, cmap='spring')\n",
    "ax.scatter(df.addr, color='y', marker='o')\n",
    "ax.scatter(df_.addr, color='c', marker='+')\n",
    "ax.hide_axis()"
   ]
  },
  {
   "cell_type": "code",
   "execution_count": null,
   "metadata": {},
   "outputs": [],
   "source": [
    "ax.zoom(mm_im.roi)\n",
    "ax.figure"
   ]
  }
 ],
 "metadata": {
  "kernelspec": {
   "display_name": "Python 3",
   "language": "python",
   "name": "python3"
  },
  "language_info": {
   "codemirror_mode": {
    "name": "ipython",
    "version": 3
   },
   "file_extension": ".py",
   "mimetype": "text/x-python",
   "name": "python",
   "nbconvert_exporter": "python",
   "pygments_lexer": "ipython3",
   "version": "3.6.3"
  }
 },
 "nbformat": 4,
 "nbformat_minor": 2
}
