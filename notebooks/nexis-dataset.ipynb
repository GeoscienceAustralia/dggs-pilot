{
 "cells": [
  {
   "cell_type": "code",
   "execution_count": null,
   "metadata": {},
   "outputs": [],
   "source": [
    "%matplotlib inline\n",
    "import matplotlib.pyplot as plt\n",
    "import numpy as np\n",
    "import xarray as xr\n",
    "import dggs\n",
    "from dggs import DGGS, io as dggs_io, uitools\n",
    "import dggs.datasets as data\n",
    "import dggs.applib"
   ]
  },
  {
   "cell_type": "markdown",
   "metadata": {},
   "source": [
    "### Load canberra map for data vis\n",
    "\n",
    "This is a raster of google map, it was converted to DGGS raster and stored in HDF5 file."
   ]
  },
  {
   "cell_type": "code",
   "execution_count": null,
   "metadata": {},
   "outputs": [],
   "source": [
    "cbr_map = dggs_io.h5_load('cbr-google-map.h5')"
   ]
  },
  {
   "cell_type": "markdown",
   "metadata": {},
   "source": [
    "### Get some spatial queries\n",
    "\n",
    "1. Load named polygon from shape file\n",
    "2. Convert polygon to rHealPix\n",
    "3. Rasterise at the specified DGGS scale\n",
    "4. Convert raster to minimal textual representation\n",
    "\n",
    "One can combine two or more queries by just concatenating them, this will produce correct but not optimal query. One can however simplify the combined query (currently only naive version of simplification is implemented)."
   ]
  },
  {
   "cell_type": "code",
   "execution_count": null,
   "metadata": {},
   "outputs": [],
   "source": [
    "mm = data.act_suburb_mask(12, mode='text')\n",
    "\n",
    "q1 = mm('BRADDON')\n",
    "q2 = mm('TURNER')\n",
    "\n",
    "print('Braddon')\n",
    "display(uitools.addr_mask_repr(q1))\n",
    "print('Turner')\n",
    "display(uitools.addr_mask_repr(q2))\n",
    "\n",
    "query = q1 + q2\n",
    "print('Turner + Braddon')\n",
    "display(uitools.addr_mask_repr(query))\n",
    "\n",
    "query = dggs.simplify_mask_naive(query)\n",
    "\n",
    "print('Turner + Braddon (simplified)')\n",
    "display(uitools.addr_mask_repr(query))"
   ]
  },
  {
   "cell_type": "code",
   "execution_count": null,
   "metadata": {},
   "outputs": [],
   "source": [
    "fig = plt.figure(figsize=(14,7))\n",
    "roi = DGGS.roi_from_points(query)\n",
    "\n",
    "ax1 = uitools.DgDraw(fig.add_axes([0,0,0.49,1]))\n",
    "ax2 = uitools.DgDraw(fig.add_axes([0.5,0,0.49,1]))\n",
    "ax1.raw.set_title('Raw')\n",
    "ax1.imshow(cbr_map)\n",
    "ax1.hide_axis()\n",
    "ax1.qshow(q1,max_level=11)\n",
    "ax1.qshow(q2,max_level=11)\n",
    "ax1.zoom(roi);\n",
    "\n",
    "ax2.raw.set_title('Simplified')\n",
    "ax2.imshow(cbr_map)\n",
    "ax2.qshow(query, max_level=11)\n",
    "ax2.hide_axis()\n",
    "ax2.zoom(roi);"
   ]
  },
  {
   "cell_type": "markdown",
   "metadata": {},
   "source": [
    "### Load NEXIS Point Data"
   ]
  },
  {
   "cell_type": "code",
   "execution_count": null,
   "metadata": {},
   "outputs": [],
   "source": [
    "df, crs = data.act_nexis()\n",
    "df.head(3)"
   ]
  },
  {
   "cell_type": "markdown",
   "metadata": {},
   "source": [
    "### Assign DGGS addresses to points"
   ]
  },
  {
   "cell_type": "code",
   "execution_count": null,
   "metadata": {},
   "outputs": [],
   "source": [
    "df = dggs.pd_compute_address(df, 15, crs=crs)\n",
    "df.head(3)"
   ]
  },
  {
   "cell_type": "markdown",
   "metadata": {},
   "source": [
    "### Apply spatial query\n",
    "\n",
    "Find points that fall within the query region. Currently only a naive version of the query is implemented. Computational complexity for naive implementation is $\\Theta(NM)$, where $N$ is number of data points and $M$ is number of query cells. Proper implementation should probably be $\\Theta(M \\log N)$, or maybe even just $\\Theta(M)$, assuming $\\Theta(N \\log N)$ preprocessing step is applied to the source data first. "
   ]
  },
  {
   "cell_type": "code",
   "execution_count": null,
   "metadata": {},
   "outputs": [],
   "source": [
    "mm = dggs.applib.pd_naive_overlap(query, df)\n",
    "df_ = df[mm]"
   ]
  },
  {
   "cell_type": "code",
   "execution_count": null,
   "metadata": {},
   "outputs": [],
   "source": [
    "ax = uitools.DgDraw(plt.figure(figsize=(12,8)))\n",
    "\n",
    "ax.imshow(cbr_map)\n",
    "ax.qshow(query, max_level=11)\n",
    "ax.scatter(df.addr, color='b', marker='s', s=20, alpha=0.1)\n",
    "ax.scatter(df_.addr, color='c', marker='.', s=20)\n",
    "ax.roi(roi, 'y-', linewidth=2)\n",
    "ax.hide_axis();"
   ]
  },
  {
   "cell_type": "code",
   "execution_count": null,
   "metadata": {},
   "outputs": [],
   "source": [
    "ax.zoom(roi)\n",
    "ax.figure"
   ]
  },
  {
   "cell_type": "markdown",
   "metadata": {},
   "source": [
    "### Do some stats on a subset"
   ]
  },
  {
   "cell_type": "code",
   "execution_count": null,
   "metadata": {},
   "outputs": [],
   "source": [
    "totals = df_['value people footprint addresses'.split()].sum()\n",
    "\n",
    "print(f'''\n",
    "People     {totals.people:,.0f}\n",
    "Dwellings  {totals.addresses:,.0f}\n",
    "Floor      {totals.footprint:,.0f} m2\n",
    "Value      ${totals.value:,.0f}\n",
    "''')"
   ]
  }
 ],
 "metadata": {
  "kernelspec": {
   "display_name": "Python 3",
   "language": "python",
   "name": "python3"
  },
  "language_info": {
   "codemirror_mode": {
    "name": "ipython",
    "version": 3
   },
   "file_extension": ".py",
   "mimetype": "text/x-python",
   "name": "python",
   "nbconvert_exporter": "python",
   "pygments_lexer": "ipython3",
   "version": "3.6.3"
  }
 },
 "nbformat": 4,
 "nbformat_minor": 2
}
