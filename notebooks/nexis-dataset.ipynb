{
 "cells": [
  {
   "cell_type": "code",
   "execution_count": null,
   "metadata": {},
   "outputs": [],
   "source": [
    "%matplotlib inline\n",
    "import matplotlib.pyplot as plt\n",
    "import numpy as np\n",
    "import xarray as xr\n",
    "import dggs\n",
    "from dggs import DGGS, io as dggs_io, uitools\n",
    "import dggs.datasets as data\n",
    "import dggs.applib\n",
    "\n",
    "dg = DGGS()"
   ]
  },
  {
   "cell_type": "code",
   "execution_count": null,
   "metadata": {},
   "outputs": [],
   "source": [
    "df, crs = data.act_nexis()\n",
    "df = dggs.pd_compute_address(df, 15, crs=crs, dg=dg)\n",
    "df.head()"
   ]
  },
  {
   "cell_type": "code",
   "execution_count": null,
   "metadata": {},
   "outputs": [],
   "source": [
    "mm = data.act_suburb_mask(12, mode='text')\n",
    "\n",
    "query_addr = (mm('BRADDON') + \n",
    "              mm('TURNER'))\n",
    "query_addr[:4]+['..']+query_addr[-4:], len(query_addr)"
   ]
  },
  {
   "cell_type": "code",
   "execution_count": null,
   "metadata": {},
   "outputs": [],
   "source": [
    "mm = dggs.applib.pd_naive_overlap(query_addr, df)\n",
    "df_ = df[mm]"
   ]
  },
  {
   "cell_type": "code",
   "execution_count": null,
   "metadata": {},
   "outputs": [],
   "source": [
    "cbr_map = dggs_io.h5_load('cbr-google-map.h5')\n",
    "mm_im = uitools.mask_to_float( dggs.mask_from_addresses(query_addr) )\n",
    "\n",
    "ax = uitools.DgDraw(plt.figure(figsize=(12,8)))\n",
    "\n",
    "ax.imshow(cbr_map)\n",
    "ax.imshow(mm_im, alpha=0.2, reset_axis=False, cmap='bone')\n",
    "ax.scatter(df.addr, color='m', marker='s', s=20, alpha=0.1)\n",
    "ax.scatter(df_.addr, color='c', marker='.', s=20)\n",
    "ax.roi(mm_im.roi, 'y-', linewidth=2)\n",
    "ax.hide_axis();"
   ]
  },
  {
   "cell_type": "code",
   "execution_count": null,
   "metadata": {},
   "outputs": [],
   "source": [
    "ax.zoom(mm_im.roi)\n",
    "ax.figure"
   ]
  },
  {
   "cell_type": "code",
   "execution_count": null,
   "metadata": {},
   "outputs": [],
   "source": [
    "totals = df_['value people footprint addresses'.split()].sum()\n",
    "\n",
    "print(f'''\n",
    "People     {totals.people:,.0f}\n",
    "Dwellings  {totals.addresses:,.0f}\n",
    "Floor      {totals.footprint:,.0f} m2\n",
    "Value      ${totals.value:,.0f}\n",
    "''')"
   ]
  }
 ],
 "metadata": {
  "kernelspec": {
   "display_name": "Python 3",
   "language": "python",
   "name": "python3"
  },
  "language_info": {
   "codemirror_mode": {
    "name": "ipython",
    "version": 3
   },
   "file_extension": ".py",
   "mimetype": "text/x-python",
   "name": "python",
   "nbconvert_exporter": "python",
   "pygments_lexer": "ipython3",
   "version": "3.6.3"
  }
 },
 "nbformat": 4,
 "nbformat_minor": 2
}
