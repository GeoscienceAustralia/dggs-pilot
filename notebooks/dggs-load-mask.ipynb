{
 "cells": [
  {
   "cell_type": "code",
   "execution_count": null,
   "metadata": {},
   "outputs": [],
   "source": [
    "%matplotlib inline\n",
    "import matplotlib.pyplot as plt\n",
    "import numpy as np"
   ]
  },
  {
   "cell_type": "code",
   "execution_count": null,
   "metadata": {},
   "outputs": [],
   "source": [
    "from dggs import mask_from_addresses, DGGS\n",
    "from dggs.io import save_png, slurp\n",
    "from dggs import uitools"
   ]
  },
  {
   "cell_type": "code",
   "execution_count": null,
   "metadata": {},
   "outputs": [],
   "source": [
    "aa = slurp('mm-addresses.txt.xz', DGGS.Address)\n",
    "mm = mask_from_addresses(aa)"
   ]
  },
  {
   "cell_type": "code",
   "execution_count": null,
   "metadata": {},
   "outputs": [],
   "source": [
    "aspect = float(mm.shape[0])/mm.shape[1]\n",
    "ax = uitools.DgDraw(plt.figure(figsize=(6,6*aspect)))\n",
    "ax.hide_axis()\n",
    "ax.imshow(mm)\n",
    "\n",
    "for a in aa:\n",
    "    if a.scale <= 9:\n",
    "        ax.roi(DGGS.ROI(a), 'c-', alpha=0.7, linewidth=0.5)\n",
    "\n",
    "#ax._ax.set_aspect('equal')\n",
    "uitools.save_axis_tight('mm-grid-visualisation.png', ax=ax._ax, dpi=300)"
   ]
  },
  {
   "cell_type": "code",
   "execution_count": null,
   "metadata": {},
   "outputs": [],
   "source": [
    "def build_vis_mask(aa, roi = None):\n",
    "    roi = DGGS.roi_from_points(aa) if roi is None else roi\n",
    "    mm = DGGS.Image(np.zeros(roi.shape, dtype='uint8'), roi)\n",
    "\n",
    "    for a in aa:\n",
    "        mm[a] = roi.scale - a.scale + 1\n",
    "    \n",
    "    return mm"
   ]
  },
  {
   "cell_type": "code",
   "execution_count": null,
   "metadata": {},
   "outputs": [],
   "source": [
    "palette = dict(divergent=[0xffffff,0xffffe0,0xffa474,0xdb4551,0xffffe0,0xffa474,0xdb4551,0x8b0000],\n",
    "               sequential=[0xffffff, 0xffffe0,0xffd59b,0xffa474,0xf47461,0xdb4551,0xb81b34,0x8b0000])\n",
    "\n",
    "mmc = build_vis_mask(aa, mm.roi)\n",
    "mm_colour = uitools.index_to_rgb(mmc.value, palette['sequential'], alpha=0)\n",
    "plt.imshow(mm_colour);"
   ]
  },
  {
   "cell_type": "code",
   "execution_count": null,
   "metadata": {},
   "outputs": [],
   "source": [
    "save_png(f'mm-colour-{mm.addr}.png', mm_colour)"
   ]
  }
 ],
 "metadata": {
  "kernelspec": {
   "display_name": "Python 3",
   "language": "python",
   "name": "python3"
  },
  "language_info": {
   "codemirror_mode": {
    "name": "ipython",
    "version": 3
   },
   "file_extension": ".py",
   "mimetype": "text/x-python",
   "name": "python",
   "nbconvert_exporter": "python",
   "pygments_lexer": "ipython3",
   "version": "3.6.3"
  }
 },
 "nbformat": 4,
 "nbformat_minor": 2
}
