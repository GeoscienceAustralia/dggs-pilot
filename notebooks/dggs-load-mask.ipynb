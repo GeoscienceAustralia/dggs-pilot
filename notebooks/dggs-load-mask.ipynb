{
 "cells": [
  {
   "cell_type": "code",
   "execution_count": null,
   "metadata": {},
   "outputs": [],
   "source": [
    "%matplotlib inline\n",
    "import matplotlib.pyplot as plt\n",
    "import numpy as np"
   ]
  },
  {
   "cell_type": "code",
   "execution_count": null,
   "metadata": {},
   "outputs": [],
   "source": [
    "from kk.dggs import DGGS, mask_from_addresses\n",
    "from kk.dggs.io import save_png, dump_text, slurp\n",
    "from kk import uitools\n",
    "\n",
    "dg = DGGS()"
   ]
  },
  {
   "cell_type": "code",
   "execution_count": null,
   "metadata": {},
   "outputs": [],
   "source": [
    "def im_plotter(ax, dg=dg, **kwargs):\n",
    "    ff = dg.mk_display_helper(**kwargs)\n",
    "    \n",
    "    def show(im, **kwargs):\n",
    "        im, extent = ff(im.addr, im.value)\n",
    "        return ax.imshow(im, extent=extent, **kwargs)\n",
    "    \n",
    "    return show\n",
    "\n",
    "def build_vis_mask(aa, roi = None):\n",
    "    roi = DGGS.roi_from_points(aa) if roi is None else roi\n",
    "    mm = DGGS.Image(np.zeros(roi.shape, dtype='uint8'), roi)\n",
    "\n",
    "    for a in aa:\n",
    "        mm[a] = roi.scale - a.scale + 1\n",
    "    \n",
    "    return mm"
   ]
  },
  {
   "cell_type": "code",
   "execution_count": null,
   "metadata": {},
   "outputs": [],
   "source": [
    "aa = slurp('mm-addresses.txt.xz', DGGS.Address)\n",
    "mm = mask_from_addresses(aa)"
   ]
  },
  {
   "cell_type": "code",
   "execution_count": null,
   "metadata": {},
   "outputs": [],
   "source": [
    "fig = plt.figure(figsize=(6,6))\n",
    "ax = fig.add_axes((0,0,1,1))\n",
    "ax.set_axis_off()\n",
    "imshow = im_plotter(ax)\n",
    "imshow(mm)\n",
    "\n",
    "for a in aa:\n",
    "    if a.scale <= 9:\n",
    "        uitools.plot_roi(DGGS.ROI(a), 'c-', ax=ax, alpha=0.7, linewidth=0.5)\n",
    "\n",
    "fig.savefig('mm-grid-visualisation.png', dpi=300);"
   ]
  },
  {
   "cell_type": "code",
   "execution_count": null,
   "metadata": {},
   "outputs": [],
   "source": [
    "palette = dict(divergent=[0xffffff,0xffffe0,0xffa474,0xdb4551,0xffffe0,0xffa474,0xdb4551,0x8b0000],\n",
    "               sequential=[0xffffff, 0xffffe0,0xffd59b,0xffa474,0xf47461,0xdb4551,0xb81b34,0x8b0000])\n",
    "\n",
    "mmc = build_vis_mask(aa, mm.roi)\n",
    "mm_colour = uitools.index_to_rgb(mmc.value, palette['sequential'], alpha=0)\n",
    "plt.imshow(mm_colour);"
   ]
  },
  {
   "cell_type": "code",
   "execution_count": null,
   "metadata": {},
   "outputs": [],
   "source": [
    "save_png(f'mm-colour-{mm.addr}.png', mm_colour)"
   ]
  },
  {
   "cell_type": "code",
   "execution_count": null,
   "metadata": {},
   "outputs": [],
   "source": []
  }
 ],
 "metadata": {
  "kernelspec": {
   "display_name": "Python 3",
   "language": "python",
   "name": "python3"
  },
  "language_info": {
   "codemirror_mode": {
    "name": "ipython",
    "version": 3
   },
   "file_extension": ".py",
   "mimetype": "text/x-python",
   "name": "python",
   "nbconvert_exporter": "python",
   "pygments_lexer": "ipython3",
   "version": "3.6.3"
  }
 },
 "nbformat": 4,
 "nbformat_minor": 2
}
