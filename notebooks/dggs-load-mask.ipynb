{
 "cells": [
  {
   "cell_type": "code",
   "execution_count": null,
   "metadata": {},
   "outputs": [],
   "source": [
    "%matplotlib inline\n",
    "import matplotlib.pyplot as plt\n",
    "import numpy as np"
   ]
  },
  {
   "cell_type": "code",
   "execution_count": null,
   "metadata": {},
   "outputs": [],
   "source": [
    "from kk.dggs import DGGS\n",
    "import kk.tools\n",
    "from kk import uitools\n",
    "from kk.tools import save_png, dump_text, slurp\n",
    "\n",
    "dg = DGGS()"
   ]
  },
  {
   "cell_type": "code",
   "execution_count": null,
   "metadata": {},
   "outputs": [],
   "source": [
    "def im_plotter(ax, dg=dg, **kwargs):\n",
    "    ff = dg.mk_display_helper(**kwargs)\n",
    "    \n",
    "    def show(im, **kwargs):\n",
    "        im, extent = ff(im.addr, im.value)\n",
    "        return ax.imshow(im, extent=extent, **kwargs)\n",
    "    \n",
    "    return show\n"
   ]
  },
  {
   "cell_type": "code",
   "execution_count": null,
   "metadata": {},
   "outputs": [],
   "source": [
    "aa = slurp('mm-addresses.txt.xz', DGGS.Address)\n",
    "roi = DGGS.roi_from_points(aa)\n",
    "mm = DGGS.Image(np.zeros(roi.shape, dtype='bool'), roi)\n",
    "\n",
    "for a in aa:\n",
    "    mm[DGGS.ROI(a,1,1)] = True"
   ]
  },
  {
   "cell_type": "code",
   "execution_count": null,
   "metadata": {},
   "outputs": [],
   "source": [
    "fig = plt.figure(figsize=(6,6))\n",
    "ax = fig.add_axes((0,0,1,1))\n",
    "ax.set_axis_off()\n",
    "imshow = im_plotter(ax)\n",
    "imshow(mm)\n",
    "\n",
    "for a in aa:\n",
    "    if a.scale <= 9:\n",
    "        uitools.plot_roi(DGGS.ROI(a), 'c-', ax=ax, alpha=0.7, linewidth=0.5)"
   ]
  },
  {
   "cell_type": "code",
   "execution_count": null,
   "metadata": {},
   "outputs": [],
   "source": []
  }
 ],
 "metadata": {
  "kernelspec": {
   "display_name": "Python 3",
   "language": "python",
   "name": "python3"
  },
  "language_info": {
   "codemirror_mode": {
    "name": "ipython",
    "version": 3
   },
   "file_extension": ".py",
   "mimetype": "text/x-python",
   "name": "python",
   "nbconvert_exporter": "python",
   "pygments_lexer": "ipython3",
   "version": "3.6.3"
  }
 },
 "nbformat": 4,
 "nbformat_minor": 2
}
